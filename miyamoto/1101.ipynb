{
 "cells": [
  {
   "cell_type": "code",
   "execution_count": 1,
   "metadata": {},
   "outputs": [
    {
     "data": {
      "text/plain": [
       "'%.3f'"
      ]
     },
     "execution_count": 1,
     "metadata": {},
     "output_type": "execute_result"
    }
   ],
   "source": [
    "import numpy as np\n",
    "import numpy.random as random\n",
    "import scipy as sp\n",
    "from pandas import Series,DataFrame\n",
    "import pandas as pd\n",
    "\n",
    "# 可視化モジュール\n",
    "import matplotlib.pyplot as plt\n",
    "import matplotlib as mpl\n",
    "import seaborn as sns\n",
    "%matplotlib inline\n",
    "\n",
    "# 機械学習モジュール\n",
    "import sklearn\n",
    "\n",
    "# 小数第３まで表示\n",
    "%precision 3"
   ]
  },
  {
   "cell_type": "code",
   "execution_count": 4,
   "metadata": {},
   "outputs": [
    {
     "name": "stderr",
     "output_type": "stream",
     "text": [
      "C:\\Users\\miyamoto\\Anaconda3\\lib\\site-packages\\IPython\\core\\interactiveshell.py:2717: DtypeWarning: Columns (2) have mixed types. Specify dtype option on import or set low_memory=False.\n",
      "  interactivity=interactivity, compiler=compiler, result=result)\n"
     ]
    }
   ],
   "source": [
    "#ファイルの読み込み\n",
    "data=pd.read_csv('data_datetime.csv',parse_dates=[0])\n"
   ]
  },
  {
   "cell_type": "code",
   "execution_count": 7,
   "metadata": {},
   "outputs": [
    {
     "name": "stderr",
     "output_type": "stream",
     "text": [
      "C:\\Users\\miyamoto\\Anaconda3\\lib\\site-packages\\IPython\\core\\interactiveshell.py:2717: DtypeWarning: Columns (2) have mixed types. Specify dtype option on import or set low_memory=False.\n",
      "  interactivity=interactivity, compiler=compiler, result=result)\n"
     ]
    }
   ],
   "source": [
    "data_2012=pd.read_csv('data_2012.csv',parse_dates=[0])\n",
    "data_2013=pd.read_csv('data_2013.csv',parse_dates=[0])\n",
    "data_2014=pd.read_csv('data_2014.csv',parse_dates=[0])\n",
    "data_2015=pd.read_csv('data_2015.csv',parse_dates=[0])\n",
    "data_2016=pd.read_csv('data_2016.csv',parse_dates=[0])\n",
    "data_2017=pd.read_csv('data_2017.csv',parse_dates=[0])"
   ]
  },
  {
   "cell_type": "code",
   "execution_count": 5,
   "metadata": {
    "scrolled": true
   },
   "outputs": [],
   "source": [
    "#年ごとにデータを格納\n",
    "data_2017=data[data['DATETIME'].dt.year==2017]\n",
    "data_2016=data[data['DATETIME'].dt.year==2016]\n",
    "data_2015=data[data['DATETIME'].dt.year==2015]\n",
    "data_2014=data[data['DATETIME'].dt.year==2014]\n",
    "data_2013=data[data['DATETIME'].dt.year==2013]\n",
    "data_2012=data[data['DATETIME'].dt.year==2012]"
   ]
  },
  {
   "cell_type": "code",
   "execution_count": 6,
   "metadata": {
    "collapsed": true
   },
   "outputs": [],
   "source": [
    "data_2017.to_csv(\"data_2017.csv\",index=False)\n",
    "data_2016.to_csv(\"data_2016.csv\",index=False)\n",
    "data_2015.to_csv(\"data_2015.csv\",index=False)\n",
    "data_2014.to_csv(\"data_2014.csv\",index=False)\n",
    "data_2013.to_csv(\"data_2013.csv\",index=False)\n",
    "data_2012.to_csv(\"data_2012.csv\",index=False)"
   ]
  },
  {
   "cell_type": "code",
   "execution_count": 62,
   "metadata": {
    "collapsed": true
   },
   "outputs": [],
   "source": [
    "#平日のみを抽出\n",
    "data_weekday = data[(data['DATETIME'].dt.weekday==0)\\\n",
    "                                                     |(data['DATETIME'].dt.weekday==1)\\\n",
    "                                                     |(data['DATETIME'].dt.weekday==2)\\\n",
    "                                                     |(data['DATETIME'].dt.weekday==3)\\\n",
    "                                                     |(data['DATETIME'].dt.weekday==4)]\n",
    "data_weekday.to_csv(\"data_weekday.csv\")\n",
    "#休日のみを抽出\n",
    "data_weekend = data[(data['DATETIME'].dt.weekday==5)|(data['DATETIME'].dt.weekday==6)]\n",
    "data_weekend.to_csv(\"data_weekend.csv\")"
   ]
  },
  {
   "cell_type": "markdown",
   "metadata": {},
   "source": [
    "## DATE,TIMEカラムを統合したDATETIMEカラムのファイル作成"
   ]
  },
  {
   "cell_type": "markdown",
   "metadata": {},
   "source": [
    "→1028"
   ]
  },
  {
   "cell_type": "markdown",
   "metadata": {},
   "source": [
    "## データの基本的な値の調査"
   ]
  },
  {
   "cell_type": "code",
   "execution_count": 9,
   "metadata": {
    "scrolled": true
   },
   "outputs": [
    {
     "name": "stdout",
     "output_type": "stream",
     "text": [
      "<class 'pandas.core.frame.DataFrame'>\n",
      "RangeIndex: 1137849 entries, 0 to 1137848\n",
      "Data columns (total 28 columns):\n",
      "DATETIME                         1137849 non-null datetime64[ns]\n",
      "BOROUGH                          820326 non-null object\n",
      "ZIP CODE                         820247 non-null object\n",
      "LATITUDE                         927296 non-null float64\n",
      "LONGITUDE                        927296 non-null float64\n",
      "LOCATION                         927296 non-null object\n",
      "ON STREET NAME                   922954 non-null object\n",
      "CROSS STREET NAME                875298 non-null object\n",
      "OFF STREET NAME                  172082 non-null object\n",
      "NUMBER OF PERSONS INJURED        1137849 non-null int64\n",
      "NUMBER OF PERSONS KILLED         1137849 non-null int64\n",
      "NUMBER OF PEDESTRIANS INJURED    1137849 non-null int64\n",
      "NUMBER OF PEDESTRIANS KILLED     1137849 non-null int64\n",
      "NUMBER OF CYCLIST INJURED        1137849 non-null int64\n",
      "NUMBER OF CYCLIST KILLED         1137849 non-null int64\n",
      "NUMBER OF MOTORIST INJURED       1137849 non-null int64\n",
      "NUMBER OF MOTORIST KILLED        1137849 non-null int64\n",
      "CONTRIBUTING FACTOR VEHICLE 1    1132921 non-null object\n",
      "CONTRIBUTING FACTOR VEHICLE 2    987555 non-null object\n",
      "CONTRIBUTING FACTOR VEHICLE 3    74167 non-null object\n",
      "CONTRIBUTING FACTOR VEHICLE 4    15979 non-null object\n",
      "CONTRIBUTING FACTOR VEHICLE 5    3924 non-null object\n",
      "UNIQUE KEY                       1137849 non-null int64\n",
      "VEHICLE TYPE CODE 1              1129361 non-null object\n",
      "VEHICLE TYPE CODE 2              956224 non-null object\n",
      "VEHICLE TYPE CODE 3              71831 non-null object\n",
      "VEHICLE TYPE CODE 4              15376 non-null object\n",
      "VEHICLE TYPE CODE 5              3800 non-null object\n",
      "dtypes: datetime64[ns](1), float64(2), int64(9), object(16)\n",
      "memory usage: 243.1+ MB\n"
     ]
    }
   ],
   "source": [
    "data.info()"
   ]
  },
  {
   "cell_type": "code",
   "execution_count": 15,
   "metadata": {},
   "outputs": [
    {
     "data": {
      "text/plain": [
       "<Container object of 48 artists>"
      ]
     },
     "execution_count": 15,
     "metadata": {},
     "output_type": "execute_result"
    },
    {
     "data": {
      "image/png": "[encoded data removed]",
      "text/plain": [
       "<matplotlib.figure.Figure at 0x3006b320>"
      ]
     },
     "metadata": {},
     "output_type": "display_data"
    }
   ],
   "source": [
    "#事故原因の出現回数\n",
    "y=data['CONTRIBUTING FACTOR VEHICLE 1'].value_counts()\n",
    "plt.figure(figsize=(10,6),facecolor=\"white\")\n",
    "w=0.2\n",
    "x = np.arange(len(y))\n",
    "plt.bar(x,y)"
   ]
  },
  {
   "cell_type": "markdown",
   "metadata": {},
   "source": [
    "# やること  \n",
    "1. 事故原因、streetの相関"
   ]
  },
  {
   "cell_type": "code",
   "execution_count": 16,
   "metadata": {
    "collapsed": true
   },
   "outputs": [],
   "source": [
    "Borough_Cont_Factor=data.groupby('CONTRIBUTING FACTOR VEHICLE 1')['DATETIME'].count()"
   ]
  },
  {
   "cell_type": "code",
   "execution_count": 17,
   "metadata": {
    "scrolled": true
   },
   "outputs": [
    {
     "data": {
      "text/plain": [
       "CONTRIBUTING FACTOR VEHICLE 1\n",
       "Accelerator Defective                                       495\n",
       "Aggressive Driving/Road Rage                               3664\n",
       "Alcohol Involvement                                        9375\n",
       "Animals Action                                              627\n",
       "Backing Unsafely                                          35222\n",
       "Brakes Defective                                           2986\n",
       "Cell Phone (hand-held)                                      175\n",
       "Cell Phone (hands-free)                                     218\n",
       "Driver Inattention/Distraction                           162919\n",
       "Driver Inexperience                                       14702\n",
       "Driverless/Runaway Vehicle                                  294\n",
       "Drugs (Illegal)                                             578\n",
       "Failure to Keep Right                                      2092\n",
       "Failure to Yield Right-of-Way                             52938\n",
       "Fatigued/Drowsy                                           48441\n",
       "Fell Asleep                                                1847\n",
       "Following Too Closely                                     25859\n",
       "Glare                                                      2261\n",
       "Headlights Defective                                         67\n",
       "Illness                                                    2533\n",
       "Lane Marking Improper/Inadequate                            505\n",
       "Lost Consciousness                                        20220\n",
       "Obstruction/Debris                                         2136\n",
       "Other Electronic Device                                    2259\n",
       "Other Lighting Defects                                       82\n",
       "Other Vehicular                                           34447\n",
       "Outside Car Distraction                                   10846\n",
       "Oversized Vehicle                                          6723\n",
       "Passenger Distraction                                      5024\n",
       "Passing or Lane Usage Improper                            12118\n",
       "Pavement Defective                                         1229\n",
       "Pavement Slippery                                         11124\n",
       "Pedestrian/Bicyclist/Other Pedestrian Error/Confusion      1940\n",
       "Physical Disability                                        9362\n",
       "Prescription Medication                                   15900\n",
       "Reaction to Other Uninvolved Vehicle                       5496\n",
       "Shoulders Defective/Improper                                 49\n",
       "Steering Failure                                           1071\n",
       "Tire Failure/Inadequate                                    1037\n",
       "Tow Hitch Defective                                         106\n",
       "Traffic Control Device Improper/Non-Working                 473\n",
       "Traffic Control Disregarded                               15154\n",
       "Turning Improperly                                        27856\n",
       "Unsafe Lane Changing                                      10194\n",
       "Unsafe Speed                                               4926\n",
       "Unspecified                                              560255\n",
       "View Obstructed/Limited                                    5046\n",
       "Windshield Inadequate                                        50\n",
       "Name: DATETIME, dtype: int64"
      ]
     },
     "execution_count": 17,
     "metadata": {},
     "output_type": "execute_result"
    }
   ],
   "source": [
    "Borough_Cont_Factor"
   ]
  },
  {
   "cell_type": "code",
   "execution_count": null,
   "metadata": {
    "collapsed": true
   },
   "outputs": [],
   "source": [
    "data_frame1 = data_frame.groupby(['sex',''address]) #「性別」「住所」ごとに集約"
   ]
  },
  {
   "cell_type": "code",
   "execution_count": 17,
   "metadata": {
    "collapsed": true
   },
   "outputs": [
    {
     "data": {
      "text/plain": [
       "BOROUGH        CONTRIBUTING FACTOR VEHICLE 1                        \n",
       "BRONX          Accelerator Defective                                       65\n",
       "               Aggressive Driving/Road Rage                               449\n",
       "               Alcohol Involvement                                       1049\n",
       "               Animals Action                                              54\n",
       "               Backing Unsafely                                          3654\n",
       "               Brakes Defective                                           360\n",
       "               Cell Phone (hand-held)                                      17\n",
       "               Cell Phone (hands-free)                                     14\n",
       "               Driver Inattention/Distraction                           13626\n",
       "               Driver Inexperience                                       1410\n",
       "               Driverless/Runaway Vehicle                                  33\n",
       "               Drugs (Illegal)                                             77\n",
       "               Failure to Keep Right                                      163\n",
       "               Failure to Yield Right-of-Way                             3778\n",
       "               Fatigued/Drowsy                                           2337\n",
       "               Fell Asleep                                                147\n",
       "               Following Too Closely                                     1346\n",
       "               Glare                                                      289\n",
       "               Headlights Defective                                         5\n",
       "               Illness                                                    201\n",
       "               Lane Marking Improper/Inadequate                            46\n",
       "               Lost Consciousness                                        1165\n",
       "               Obstruction/Debris                                         170\n",
       "               Other Electronic Device                                    235\n",
       "               Other Lighting Defects                                       4\n",
       "               Other Vehicular                                           3911\n",
       "               Outside Car Distraction                                    790\n",
       "               Oversized Vehicle                                          502\n",
       "               Passenger Distraction                                      627\n",
       "               Passing or Lane Usage Improper                             883\n",
       "                                                                        ...  \n",
       "STATEN ISLAND  Glare                                                      129\n",
       "               Headlights Defective                                         1\n",
       "               Illness                                                     46\n",
       "               Lane Marking Improper/Inadequate                            19\n",
       "               Lost Consciousness                                         267\n",
       "               Obstruction/Debris                                          62\n",
       "               Other Electronic Device                                     54\n",
       "               Other Lighting Defects                                       2\n",
       "               Other Vehicular                                            866\n",
       "               Outside Car Distraction                                    291\n",
       "               Oversized Vehicle                                           82\n",
       "               Passenger Distraction                                       72\n",
       "               Passing or Lane Usage Improper                             191\n",
       "               Pavement Defective                                          37\n",
       "               Pavement Slippery                                          604\n",
       "               Pedestrian/Bicyclist/Other Pedestrian Error/Confusion       37\n",
       "               Physical Disability                                        271\n",
       "               Prescription Medication                                    451\n",
       "               Reaction to Other Uninvolved Vehicle                       168\n",
       "               Shoulders Defective/Improper                                 3\n",
       "               Steering Failure                                            48\n",
       "               Tire Failure/Inadequate                                     34\n",
       "               Tow Hitch Defective                                          7\n",
       "               Traffic Control Device Improper/Non-Working                 15\n",
       "               Traffic Control Disregarded                                477\n",
       "               Turning Improperly                                         535\n",
       "               Unsafe Lane Changing                                       155\n",
       "               Unsafe Speed                                               204\n",
       "               Unspecified                                              20881\n",
       "               View Obstructed/Limited                                    170\n",
       "Name: DATE, Length: 239, dtype: int64"
      ]
     },
     "execution_count": 17,
     "metadata": {},
     "output_type": "execute_result"
    }
   ],
   "source": [
    "Borough_Cont_Factor['DATE'].count()"
   ]
  },
  {
   "cell_type": "code",
   "execution_count": 18,
   "metadata": {
    "collapsed": true
   },
   "outputs": [
    {
     "ename": "TypeError",
     "evalue": "(\"'>' not supported between instances of 'float' and 'str'\", 'occurred at index BOROUGH')",
     "output_type": "error",
     "traceback": [
      "\u001b[1;31m---------------------------------------------------------------------------\u001b[0m",
      "\u001b[1;31mTypeError\u001b[0m                                 Traceback (most recent call last)",
      "\u001b[1;32m<ipython-input-18-f63ecd471ca1>\u001b[0m in \u001b[0;36m<module>\u001b[1;34m()\u001b[0m\n\u001b[0;32m      3\u001b[0m \u001b[0mlabel_encode\u001b[0m \u001b[1;33m=\u001b[0m \u001b[0mpreprocessing\u001b[0m\u001b[1;33m.\u001b[0m\u001b[0mLabelEncoder\u001b[0m\u001b[1;33m(\u001b[0m\u001b[1;33m)\u001b[0m\u001b[1;33m\u001b[0m\u001b[0m\n\u001b[0;32m      4\u001b[0m \u001b[1;31m#to convert into numbers\u001b[0m\u001b[1;33m\u001b[0m\u001b[1;33m\u001b[0m\u001b[0m\n\u001b[1;32m----> 5\u001b[1;33m \u001b[0mdata_encode\u001b[0m \u001b[1;33m=\u001b[0m\u001b[0mdata\u001b[0m\u001b[1;33m.\u001b[0m\u001b[0mapply\u001b[0m\u001b[1;33m(\u001b[0m\u001b[1;32mlambda\u001b[0m \u001b[0mx\u001b[0m\u001b[1;33m:\u001b[0m \u001b[0mlabel_encode\u001b[0m\u001b[1;33m.\u001b[0m\u001b[0mfit_transform\u001b[0m\u001b[1;33m(\u001b[0m\u001b[0mx\u001b[0m\u001b[1;33m)\u001b[0m\u001b[1;33m)\u001b[0m\u001b[1;33m\u001b[0m\u001b[0m\n\u001b[0m",
      "\u001b[1;32mC:\\ProgramData\\Anaconda3\\lib\\site-packages\\pandas\\core\\frame.py\u001b[0m in \u001b[0;36mapply\u001b[1;34m(self, func, axis, broadcast, raw, reduce, args, **kwds)\u001b[0m\n\u001b[0;32m   4358\u001b[0m                         \u001b[0mf\u001b[0m\u001b[1;33m,\u001b[0m \u001b[0maxis\u001b[0m\u001b[1;33m,\u001b[0m\u001b[1;33m\u001b[0m\u001b[0m\n\u001b[0;32m   4359\u001b[0m                         \u001b[0mreduce\u001b[0m\u001b[1;33m=\u001b[0m\u001b[0mreduce\u001b[0m\u001b[1;33m,\u001b[0m\u001b[1;33m\u001b[0m\u001b[0m\n\u001b[1;32m-> 4360\u001b[1;33m                         ignore_failures=ignore_failures)\n\u001b[0m\u001b[0;32m   4361\u001b[0m             \u001b[1;32melse\u001b[0m\u001b[1;33m:\u001b[0m\u001b[1;33m\u001b[0m\u001b[0m\n\u001b[0;32m   4362\u001b[0m                 \u001b[1;32mreturn\u001b[0m \u001b[0mself\u001b[0m\u001b[1;33m.\u001b[0m\u001b[0m_apply_broadcast\u001b[0m\u001b[1;33m(\u001b[0m\u001b[0mf\u001b[0m\u001b[1;33m,\u001b[0m \u001b[0maxis\u001b[0m\u001b[1;33m)\u001b[0m\u001b[1;33m\u001b[0m\u001b[0m\n",
      "\u001b[1;32mC:\\ProgramData\\Anaconda3\\lib\\site-packages\\pandas\\core\\frame.py\u001b[0m in \u001b[0;36m_apply_standard\u001b[1;34m(self, func, axis, ignore_failures, reduce)\u001b[0m\n\u001b[0;32m   4454\u001b[0m             \u001b[1;32mtry\u001b[0m\u001b[1;33m:\u001b[0m\u001b[1;33m\u001b[0m\u001b[0m\n\u001b[0;32m   4455\u001b[0m                 \u001b[1;32mfor\u001b[0m \u001b[0mi\u001b[0m\u001b[1;33m,\u001b[0m \u001b[0mv\u001b[0m \u001b[1;32min\u001b[0m \u001b[0menumerate\u001b[0m\u001b[1;33m(\u001b[0m\u001b[0mseries_gen\u001b[0m\u001b[1;33m)\u001b[0m\u001b[1;33m:\u001b[0m\u001b[1;33m\u001b[0m\u001b[0m\n\u001b[1;32m-> 4456\u001b[1;33m                     \u001b[0mresults\u001b[0m\u001b[1;33m[\u001b[0m\u001b[0mi\u001b[0m\u001b[1;33m]\u001b[0m \u001b[1;33m=\u001b[0m \u001b[0mfunc\u001b[0m\u001b[1;33m(\u001b[0m\u001b[0mv\u001b[0m\u001b[1;33m)\u001b[0m\u001b[1;33m\u001b[0m\u001b[0m\n\u001b[0m\u001b[0;32m   4457\u001b[0m                     \u001b[0mkeys\u001b[0m\u001b[1;33m.\u001b[0m\u001b[0mappend\u001b[0m\u001b[1;33m(\u001b[0m\u001b[0mv\u001b[0m\u001b[1;33m.\u001b[0m\u001b[0mname\u001b[0m\u001b[1;33m)\u001b[0m\u001b[1;33m\u001b[0m\u001b[0m\n\u001b[0;32m   4458\u001b[0m             \u001b[1;32mexcept\u001b[0m \u001b[0mException\u001b[0m \u001b[1;32mas\u001b[0m \u001b[0me\u001b[0m\u001b[1;33m:\u001b[0m\u001b[1;33m\u001b[0m\u001b[0m\n",
      "\u001b[1;32m<ipython-input-18-f63ecd471ca1>\u001b[0m in \u001b[0;36m<lambda>\u001b[1;34m(x)\u001b[0m\n\u001b[0;32m      3\u001b[0m \u001b[0mlabel_encode\u001b[0m \u001b[1;33m=\u001b[0m \u001b[0mpreprocessing\u001b[0m\u001b[1;33m.\u001b[0m\u001b[0mLabelEncoder\u001b[0m\u001b[1;33m(\u001b[0m\u001b[1;33m)\u001b[0m\u001b[1;33m\u001b[0m\u001b[0m\n\u001b[0;32m      4\u001b[0m \u001b[1;31m#to convert into numbers\u001b[0m\u001b[1;33m\u001b[0m\u001b[1;33m\u001b[0m\u001b[0m\n\u001b[1;32m----> 5\u001b[1;33m \u001b[0mdata_encode\u001b[0m \u001b[1;33m=\u001b[0m\u001b[0mdata\u001b[0m\u001b[1;33m.\u001b[0m\u001b[0mapply\u001b[0m\u001b[1;33m(\u001b[0m\u001b[1;32mlambda\u001b[0m \u001b[0mx\u001b[0m\u001b[1;33m:\u001b[0m \u001b[0mlabel_encode\u001b[0m\u001b[1;33m.\u001b[0m\u001b[0mfit_transform\u001b[0m\u001b[1;33m(\u001b[0m\u001b[0mx\u001b[0m\u001b[1;33m)\u001b[0m\u001b[1;33m)\u001b[0m\u001b[1;33m\u001b[0m\u001b[0m\n\u001b[0m",
      "\u001b[1;32mC:\\ProgramData\\Anaconda3\\lib\\site-packages\\sklearn\\preprocessing\\label.py\u001b[0m in \u001b[0;36mfit_transform\u001b[1;34m(self, y)\u001b[0m\n\u001b[0;32m    129\u001b[0m         \u001b[0my\u001b[0m \u001b[1;33m=\u001b[0m \u001b[0mcolumn_or_1d\u001b[0m\u001b[1;33m(\u001b[0m\u001b[0my\u001b[0m\u001b[1;33m,\u001b[0m \u001b[0mwarn\u001b[0m\u001b[1;33m=\u001b[0m\u001b[1;32mTrue\u001b[0m\u001b[1;33m)\u001b[0m\u001b[1;33m\u001b[0m\u001b[0m\n\u001b[0;32m    130\u001b[0m         \u001b[0m_check_numpy_unicode_bug\u001b[0m\u001b[1;33m(\u001b[0m\u001b[0my\u001b[0m\u001b[1;33m)\u001b[0m\u001b[1;33m\u001b[0m\u001b[0m\n\u001b[1;32m--> 131\u001b[1;33m         \u001b[0mself\u001b[0m\u001b[1;33m.\u001b[0m\u001b[0mclasses_\u001b[0m\u001b[1;33m,\u001b[0m \u001b[0my\u001b[0m \u001b[1;33m=\u001b[0m \u001b[0mnp\u001b[0m\u001b[1;33m.\u001b[0m\u001b[0munique\u001b[0m\u001b[1;33m(\u001b[0m\u001b[0my\u001b[0m\u001b[1;33m,\u001b[0m \u001b[0mreturn_inverse\u001b[0m\u001b[1;33m=\u001b[0m\u001b[1;32mTrue\u001b[0m\u001b[1;33m)\u001b[0m\u001b[1;33m\u001b[0m\u001b[0m\n\u001b[0m\u001b[0;32m    132\u001b[0m         \u001b[1;32mreturn\u001b[0m \u001b[0my\u001b[0m\u001b[1;33m\u001b[0m\u001b[0m\n\u001b[0;32m    133\u001b[0m \u001b[1;33m\u001b[0m\u001b[0m\n",
      "\u001b[1;32mC:\\ProgramData\\Anaconda3\\lib\\site-packages\\numpy\\lib\\arraysetops.py\u001b[0m in \u001b[0;36munique\u001b[1;34m(ar, return_index, return_inverse, return_counts)\u001b[0m\n\u001b[0;32m    209\u001b[0m \u001b[1;33m\u001b[0m\u001b[0m\n\u001b[0;32m    210\u001b[0m     \u001b[1;32mif\u001b[0m \u001b[0moptional_indices\u001b[0m\u001b[1;33m:\u001b[0m\u001b[1;33m\u001b[0m\u001b[0m\n\u001b[1;32m--> 211\u001b[1;33m         \u001b[0mperm\u001b[0m \u001b[1;33m=\u001b[0m \u001b[0mar\u001b[0m\u001b[1;33m.\u001b[0m\u001b[0margsort\u001b[0m\u001b[1;33m(\u001b[0m\u001b[0mkind\u001b[0m\u001b[1;33m=\u001b[0m\u001b[1;34m'mergesort'\u001b[0m \u001b[1;32mif\u001b[0m \u001b[0mreturn_index\u001b[0m \u001b[1;32melse\u001b[0m \u001b[1;34m'quicksort'\u001b[0m\u001b[1;33m)\u001b[0m\u001b[1;33m\u001b[0m\u001b[0m\n\u001b[0m\u001b[0;32m    212\u001b[0m         \u001b[0maux\u001b[0m \u001b[1;33m=\u001b[0m \u001b[0mar\u001b[0m\u001b[1;33m[\u001b[0m\u001b[0mperm\u001b[0m\u001b[1;33m]\u001b[0m\u001b[1;33m\u001b[0m\u001b[0m\n\u001b[0;32m    213\u001b[0m     \u001b[1;32melse\u001b[0m\u001b[1;33m:\u001b[0m\u001b[1;33m\u001b[0m\u001b[0m\n",
      "\u001b[1;31mTypeError\u001b[0m: (\"'>' not supported between instances of 'float' and 'str'\", 'occurred at index BOROUGH')"
     ]
    }
   ],
   "source": [
    "from sklearn import preprocessing\n",
    "\n",
    "label_encode = preprocessing.LabelEncoder()\n",
    "#to convert into numbers\n",
    "data_encode =data.apply(lambda x: label_encode.fit_transform(x))"
   ]
  },
  {
   "cell_type": "code",
   "execution_count": null,
   "metadata": {
    "collapsed": true
   },
   "outputs": [],
   "source": [
    "# 参考（カテゴリー変数をダミー特徴量として変換する方法）\n",
    "mush_data_dummy = pd.get_dummies(mush_data[['gill_color','gill_attachment','odor','cap_color']])\n",
    "mush_data_dummy.head()"
   ]
  },
  {
   "cell_type": "code",
   "execution_count": 21,
   "metadata": {
    "collapsed": true
   },
   "outputs": [],
   "source": [
    "data_dummy= pd.get_dummies(data[['BOROUGH','CONTRIBUTING FACTOR VEHICLE 1','VEHICLE TYPE CODE 1']])"
   ]
  },
  {
   "cell_type": "code",
   "execution_count": 111,
   "metadata": {},
   "outputs": [
    {
     "data": {
      "text/html": [
       "<div>\n",
       "<style>\n",
       "    .dataframe thead tr:only-child th {\n",
       "        text-align: right;\n",
       "    }\n",
       "\n",
       "    .dataframe thead th {\n",
       "        text-align: left;\n",
       "    }\n",
       "\n",
       "    .dataframe tbody tr th {\n",
       "        vertical-align: top;\n",
       "    }\n",
       "</style>\n",
       "<table border=\"1\" class=\"dataframe\">\n",
       "  <thead>\n",
       "    <tr style=\"text-align: right;\">\n",
       "      <th></th>\n",
       "      <th>BOROUGH_BRONX</th>\n",
       "      <th>BOROUGH_BROOKLYN</th>\n",
       "      <th>BOROUGH_MANHATTAN</th>\n",
       "      <th>BOROUGH_QUEENS</th>\n",
       "      <th>BOROUGH_STATEN ISLAND</th>\n",
       "      <th>CONTRIBUTING FACTOR VEHICLE 1_Accelerator Defective</th>\n",
       "      <th>CONTRIBUTING FACTOR VEHICLE 1_Aggressive Driving/Road Rage</th>\n",
       "      <th>CONTRIBUTING FACTOR VEHICLE 1_Alcohol Involvement</th>\n",
       "      <th>CONTRIBUTING FACTOR VEHICLE 1_Animals Action</th>\n",
       "      <th>CONTRIBUTING FACTOR VEHICLE 1_Backing Unsafely</th>\n",
       "      <th>...</th>\n",
       "      <th>VEHICLE TYPE CODE 1_UNKNOWN</th>\n",
       "      <th>VEHICLE TYPE CODE 1_UTILI</th>\n",
       "      <th>VEHICLE TYPE CODE 1_VAN</th>\n",
       "      <th>VEHICLE TYPE CODE 1_VN</th>\n",
       "      <th>VEHICLE TYPE CODE 1_ambul</th>\n",
       "      <th>VEHICLE TYPE CODE 1_bus</th>\n",
       "      <th>VEHICLE TYPE CODE 1_east</th>\n",
       "      <th>VEHICLE TYPE CODE 1_subn</th>\n",
       "      <th>VEHICLE TYPE CODE 1_unk</th>\n",
       "      <th>VEHICLE TYPE CODE 1_van</th>\n",
       "    </tr>\n",
       "  </thead>\n",
       "  <tbody>\n",
       "    <tr>\n",
       "      <th>0</th>\n",
       "      <td>1</td>\n",
       "      <td>0</td>\n",
       "      <td>0</td>\n",
       "      <td>0</td>\n",
       "      <td>0</td>\n",
       "      <td>0</td>\n",
       "      <td>0</td>\n",
       "      <td>0</td>\n",
       "      <td>0</td>\n",
       "      <td>0</td>\n",
       "      <td>...</td>\n",
       "      <td>0</td>\n",
       "      <td>0</td>\n",
       "      <td>0</td>\n",
       "      <td>0</td>\n",
       "      <td>0</td>\n",
       "      <td>0</td>\n",
       "      <td>0</td>\n",
       "      <td>0</td>\n",
       "      <td>0</td>\n",
       "      <td>0</td>\n",
       "    </tr>\n",
       "    <tr>\n",
       "      <th>1</th>\n",
       "      <td>1</td>\n",
       "      <td>0</td>\n",
       "      <td>0</td>\n",
       "      <td>0</td>\n",
       "      <td>0</td>\n",
       "      <td>0</td>\n",
       "      <td>0</td>\n",
       "      <td>0</td>\n",
       "      <td>0</td>\n",
       "      <td>0</td>\n",
       "      <td>...</td>\n",
       "      <td>0</td>\n",
       "      <td>0</td>\n",
       "      <td>0</td>\n",
       "      <td>0</td>\n",
       "      <td>0</td>\n",
       "      <td>0</td>\n",
       "      <td>0</td>\n",
       "      <td>0</td>\n",
       "      <td>0</td>\n",
       "      <td>0</td>\n",
       "    </tr>\n",
       "    <tr>\n",
       "      <th>2</th>\n",
       "      <td>1</td>\n",
       "      <td>0</td>\n",
       "      <td>0</td>\n",
       "      <td>0</td>\n",
       "      <td>0</td>\n",
       "      <td>0</td>\n",
       "      <td>0</td>\n",
       "      <td>0</td>\n",
       "      <td>0</td>\n",
       "      <td>0</td>\n",
       "      <td>...</td>\n",
       "      <td>0</td>\n",
       "      <td>0</td>\n",
       "      <td>0</td>\n",
       "      <td>0</td>\n",
       "      <td>0</td>\n",
       "      <td>0</td>\n",
       "      <td>0</td>\n",
       "      <td>0</td>\n",
       "      <td>0</td>\n",
       "      <td>0</td>\n",
       "    </tr>\n",
       "    <tr>\n",
       "      <th>3</th>\n",
       "      <td>0</td>\n",
       "      <td>0</td>\n",
       "      <td>1</td>\n",
       "      <td>0</td>\n",
       "      <td>0</td>\n",
       "      <td>0</td>\n",
       "      <td>0</td>\n",
       "      <td>0</td>\n",
       "      <td>0</td>\n",
       "      <td>0</td>\n",
       "      <td>...</td>\n",
       "      <td>0</td>\n",
       "      <td>0</td>\n",
       "      <td>0</td>\n",
       "      <td>0</td>\n",
       "      <td>0</td>\n",
       "      <td>0</td>\n",
       "      <td>0</td>\n",
       "      <td>0</td>\n",
       "      <td>0</td>\n",
       "      <td>0</td>\n",
       "    </tr>\n",
       "    <tr>\n",
       "      <th>4</th>\n",
       "      <td>0</td>\n",
       "      <td>0</td>\n",
       "      <td>0</td>\n",
       "      <td>1</td>\n",
       "      <td>0</td>\n",
       "      <td>0</td>\n",
       "      <td>0</td>\n",
       "      <td>0</td>\n",
       "      <td>0</td>\n",
       "      <td>0</td>\n",
       "      <td>...</td>\n",
       "      <td>0</td>\n",
       "      <td>0</td>\n",
       "      <td>0</td>\n",
       "      <td>0</td>\n",
       "      <td>0</td>\n",
       "      <td>0</td>\n",
       "      <td>0</td>\n",
       "      <td>0</td>\n",
       "      <td>0</td>\n",
       "      <td>0</td>\n",
       "    </tr>\n",
       "  </tbody>\n",
       "</table>\n",
       "<p>5 rows × 116 columns</p>\n",
       "</div>"
      ],
      "text/plain": [
       "   BOROUGH_BRONX  BOROUGH_BROOKLYN  BOROUGH_MANHATTAN  BOROUGH_QUEENS  \\\n",
       "0              1                 0                  0               0   \n",
       "1              1                 0                  0               0   \n",
       "2              1                 0                  0               0   \n",
       "3              0                 0                  1               0   \n",
       "4              0                 0                  0               1   \n",
       "\n",
       "   BOROUGH_STATEN ISLAND  CONTRIBUTING FACTOR VEHICLE 1_Accelerator Defective  \\\n",
       "0                      0                                                  0     \n",
       "1                      0                                                  0     \n",
       "2                      0                                                  0     \n",
       "3                      0                                                  0     \n",
       "4                      0                                                  0     \n",
       "\n",
       "   CONTRIBUTING FACTOR VEHICLE 1_Aggressive Driving/Road Rage  \\\n",
       "0                                                  0            \n",
       "1                                                  0            \n",
       "2                                                  0            \n",
       "3                                                  0            \n",
       "4                                                  0            \n",
       "\n",
       "   CONTRIBUTING FACTOR VEHICLE 1_Alcohol Involvement  \\\n",
       "0                                                  0   \n",
       "1                                                  0   \n",
       "2                                                  0   \n",
       "3                                                  0   \n",
       "4                                                  0   \n",
       "\n",
       "   CONTRIBUTING FACTOR VEHICLE 1_Animals Action  \\\n",
       "0                                             0   \n",
       "1                                             0   \n",
       "2                                             0   \n",
       "3                                             0   \n",
       "4                                             0   \n",
       "\n",
       "   CONTRIBUTING FACTOR VEHICLE 1_Backing Unsafely           ...             \\\n",
       "0                                               0           ...              \n",
       "1                                               0           ...              \n",
       "2                                               0           ...              \n",
       "3                                               0           ...              \n",
       "4                                               0           ...              \n",
       "\n",
       "   VEHICLE TYPE CODE 1_UNKNOWN  VEHICLE TYPE CODE 1_UTILI  \\\n",
       "0                            0                          0   \n",
       "1                            0                          0   \n",
       "2                            0                          0   \n",
       "3                            0                          0   \n",
       "4                            0                          0   \n",
       "\n",
       "   VEHICLE TYPE CODE 1_VAN  VEHICLE TYPE CODE 1_VN  VEHICLE TYPE CODE 1_ambul  \\\n",
       "0                        0                       0                          0   \n",
       "1                        0                       0                          0   \n",
       "2                        0                       0                          0   \n",
       "3                        0                       0                          0   \n",
       "4                        0                       0                          0   \n",
       "\n",
       "   VEHICLE TYPE CODE 1_bus  VEHICLE TYPE CODE 1_east  \\\n",
       "0                        0                         0   \n",
       "1                        0                         0   \n",
       "2                        0                         0   \n",
       "3                        0                         0   \n",
       "4                        0                         0   \n",
       "\n",
       "   VEHICLE TYPE CODE 1_subn  VEHICLE TYPE CODE 1_unk  VEHICLE TYPE CODE 1_van  \n",
       "0                         0                        0                        0  \n",
       "1                         0                        0                        0  \n",
       "2                         0                        0                        0  \n",
       "3                         0                        0                        0  \n",
       "4                         0                        0                        0  \n",
       "\n",
       "[5 rows x 116 columns]"
      ]
     },
     "execution_count": 111,
     "metadata": {},
     "output_type": "execute_result"
    }
   ],
   "source": [
    "data_dummy.head()"
   ]
  },
  {
   "cell_type": "code",
   "execution_count": null,
   "metadata": {
    "collapsed": true
   },
   "outputs": [],
   "source": [
    "# 目的変数：flg立てをする\n",
    "data_dummy[\"flg\"] = data_dummy[\"classes\"].map(lambda x: 1 if x =='p' else 0)"
   ]
  },
  {
   "cell_type": "markdown",
   "metadata": {},
   "source": [
    "## 地区と死傷者数・分類の関係"
   ]
  },
  {
   "cell_type": "markdown",
   "metadata": {},
   "source": [
    "→1027,1028"
   ]
  },
  {
   "cell_type": "code",
   "execution_count": 30,
   "metadata": {
    "scrolled": true
   },
   "outputs": [
    {
     "data": {
      "text/plain": [
       "BROOKLYN         0.307218\n",
       "QUEENS           0.260670\n",
       "MANHATTAN        0.253411\n",
       "BRONX            0.132628\n",
       "STATEN ISLAND    0.046073\n",
       "Name: BOROUGH, dtype: float64"
      ]
     },
     "execution_count": 30,
     "metadata": {},
     "output_type": "execute_result"
    }
   ],
   "source": [
    "data['BOROUGH'].value_counts(1)"
   ]
  },
  {
   "cell_type": "code",
   "execution_count": 26,
   "metadata": {
    "collapsed": true
   },
   "outputs": [],
   "source": [
    "data_Bor_Injured=data.groupby('BOROUGH')['NUMBER OF PERSONS INJURED','NUMBER OF PEDESTRIANS INJURED','NUMBER OF CYCLIST INJURED','NUMBER OF MOTORIST INJURED'].sum()\n",
    "data_Bor_Killed=data.groupby('BOROUGH')['NUMBER OF PERSONS KILLED','NUMBER OF PEDESTRIANS KILLED','NUMBER OF CYCLIST KILLED','NUMBER OF MOTORIST KILLED'].sum()"
   ]
  },
  {
   "cell_type": "code",
   "execution_count": 27,
   "metadata": {},
   "outputs": [
    {
     "data": {
      "text/html": [
       "<div>\n",
       "<style>\n",
       "    .dataframe thead tr:only-child th {\n",
       "        text-align: right;\n",
       "    }\n",
       "\n",
       "    .dataframe thead th {\n",
       "        text-align: left;\n",
       "    }\n",
       "\n",
       "    .dataframe tbody tr th {\n",
       "        vertical-align: top;\n",
       "    }\n",
       "</style>\n",
       "<table border=\"1\" class=\"dataframe\">\n",
       "  <thead>\n",
       "    <tr style=\"text-align: right;\">\n",
       "      <th></th>\n",
       "      <th>NUMBER OF PERSONS INJURED</th>\n",
       "      <th>NUMBER OF PEDESTRIANS INJURED</th>\n",
       "      <th>NUMBER OF CYCLIST INJURED</th>\n",
       "      <th>NUMBER OF MOTORIST INJURED</th>\n",
       "    </tr>\n",
       "    <tr>\n",
       "      <th>BOROUGH</th>\n",
       "      <th></th>\n",
       "      <th></th>\n",
       "      <th></th>\n",
       "      <th></th>\n",
       "    </tr>\n",
       "  </thead>\n",
       "  <tbody>\n",
       "    <tr>\n",
       "      <th>BRONX</th>\n",
       "      <td>31295</td>\n",
       "      <td>7766</td>\n",
       "      <td>1817</td>\n",
       "      <td>21838</td>\n",
       "    </tr>\n",
       "    <tr>\n",
       "      <th>BROOKLYN</th>\n",
       "      <td>73771</td>\n",
       "      <td>16960</td>\n",
       "      <td>7906</td>\n",
       "      <td>49212</td>\n",
       "    </tr>\n",
       "    <tr>\n",
       "      <th>MANHATTAN</th>\n",
       "      <td>35563</td>\n",
       "      <td>12635</td>\n",
       "      <td>5940</td>\n",
       "      <td>17212</td>\n",
       "    </tr>\n",
       "    <tr>\n",
       "      <th>QUEENS</th>\n",
       "      <td>55524</td>\n",
       "      <td>11413</td>\n",
       "      <td>3940</td>\n",
       "      <td>40559</td>\n",
       "    </tr>\n",
       "    <tr>\n",
       "      <th>STATEN ISLAND</th>\n",
       "      <td>9172</td>\n",
       "      <td>1429</td>\n",
       "      <td>218</td>\n",
       "      <td>7592</td>\n",
       "    </tr>\n",
       "  </tbody>\n",
       "</table>\n",
       "</div>"
      ],
      "text/plain": [
       "               NUMBER OF PERSONS INJURED  NUMBER OF PEDESTRIANS INJURED  \\\n",
       "BOROUGH                                                                   \n",
       "BRONX                              31295                           7766   \n",
       "BROOKLYN                           73771                          16960   \n",
       "MANHATTAN                          35563                          12635   \n",
       "QUEENS                             55524                          11413   \n",
       "STATEN ISLAND                       9172                           1429   \n",
       "\n",
       "               NUMBER OF CYCLIST INJURED  NUMBER OF MOTORIST INJURED  \n",
       "BOROUGH                                                               \n",
       "BRONX                               1817                       21838  \n",
       "BROOKLYN                            7906                       49212  \n",
       "MANHATTAN                           5940                       17212  \n",
       "QUEENS                              3940                       40559  \n",
       "STATEN ISLAND                        218                        7592  "
      ]
     },
     "execution_count": 27,
     "metadata": {},
     "output_type": "execute_result"
    }
   ],
   "source": [
    "data_Bor_Injured"
   ]
  },
  {
   "cell_type": "code",
   "execution_count": 58,
   "metadata": {
    "collapsed": true
   },
   "outputs": [],
   "source": [
    "#各地区ごとの負傷者、死者総計を配列に格納\n",
    "list_injured = data_Bor_Injured.columns\n",
    "Injured_total=np.array(list(data_Bor_Injured[list_injured[0]]))\n",
    "list_killed = data_Bor_Killed.columns\n",
    "Killed_total=np.array(list(data_Bor_Killed[list_killed[0]]))"
   ]
  },
  {
   "cell_type": "code",
   "execution_count": 60,
   "metadata": {
    "collapsed": true
   },
   "outputs": [],
   "source": [
    "#総計で割ることにより割合を求める\n",
    "data_Bor_Injured_r = data_Bor_Injured.div(Injured_total,axis=0)\n",
    "data_Bor_Killed_r = data_Bor_Killed.div(Killed_total,axis=0)"
   ]
  },
  {
   "cell_type": "code",
   "execution_count": 112,
   "metadata": {
    "scrolled": true
   },
   "outputs": [
    {
     "data": {
      "text/plain": [
       "BOROUGH\n",
       "BRONX            0.593750\n",
       "BROOKLYN         0.581081\n",
       "MANHATTAN        0.764706\n",
       "QUEENS           0.565385\n",
       "STATEN ISLAND    0.415094\n",
       "Name: NUMBER OF PEDESTRIANS KILLED, dtype: float64"
      ]
     },
     "execution_count": 112,
     "metadata": {},
     "output_type": "execute_result"
    }
   ],
   "source": [
    "data_Bor_Killed_r.iloc[:,1]\n",
    "#iloc:行列名を指定、loc:行列番号を指定"
   ]
  },
  {
   "cell_type": "code",
   "execution_count": 107,
   "metadata": {},
   "outputs": [
    {
     "data": {
      "text/plain": [
       "<matplotlib.legend.Legend at 0x757a7da0>"
      ]
     },
     "execution_count": 107,
     "metadata": {},
     "output_type": "execute_result"
    },
    {
     "data": {
      "image/png": "[encoded data removed]",
      "text/plain": [
       "<matplotlib.figure.Figure at 0x756baeb8>"
      ]
     },
     "metadata": {},
     "output_type": "display_data"
    }
   ],
   "source": [
    "#injuredの地区別割合\n",
    "plt.figure(figsize=(10,6),facecolor=\"white\")\n",
    "w=0.2\n",
    "X = np.arange(5)\n",
    "plt.bar(X, data_Bor_Injured_r.iloc[:,1], width=w,label='Pedestrians') #Y1\n",
    "plt.bar(X+w, data_Bor_Injured_r.iloc[:,2],width=w,label='Cyclists') #Y2の棒グラフを隣に書く\n",
    "plt.bar(X+2*w, data_Bor_Injured_r.iloc[:,3],width=w,label='Motorists') #Y2の棒グラフを隣に書く\n",
    "plt.xticks(X+ w,[data_Bor_Injured.index[0],data_Bor_Injured.index[1],data_Bor_Injured.index[2],data_Bor_Injured.index[3],data_Bor_Injured.index[4]] )\n",
    "plt.ylabel('rate of each classification')\n",
    "plt.xlabel('Borough')\n",
    "plt.legend()"
   ]
  },
  {
   "cell_type": "markdown",
   "metadata": {},
   "source": [
    "## 時系列ごとのデータ分析"
   ]
  },
  {
   "cell_type": "markdown",
   "metadata": {},
   "source": [
    "→1027,1028"
   ]
  },
  {
   "cell_type": "code",
   "execution_count": 124,
   "metadata": {
    "collapsed": true
   },
   "outputs": [],
   "source": [
    "#damage_timespan= DataFrame[]\n",
    "data_2017['NUMBER OF PERSONS INJURED'].sum()\n",
    "dt = {'NUMBER OF PERSONS INJURED':[data_2017['NUMBER OF PERSONS INJURED'].sum(),data_2016['NUMBER OF PERSONS INJURED'].sum(),data_2015['NUMBER OF PERSONS INJURED'].sum(),data_2014['NUMBER OF PERSONS INJURED'].sum(),data_2013['NUMBER OF PERSONS INJURED'].sum(),data_2012['NUMBER OF PERSONS INJURED'].sum()],\\\n",
    "     'NUMBER OF PEDESTRIANS INJURED':[data_2017['NUMBER OF PEDESTRIANS INJURED'].sum(),data_2016['NUMBER OF PEDESTRIANS INJURED'].sum(),data_2015['NUMBER OF PEDESTRIANS INJURED'].sum(),data_2014['NUMBER OF PEDESTRIANS INJURED'].sum(),data_2013['NUMBER OF PEDESTRIANS INJURED'].sum(),data_2012['NUMBER OF PEDESTRIANS INJURED'].sum()],\\\n",
    "      'NUMBER OF CYCLIST INJURED':[data_2017['NUMBER OF PERSONS INJURED'].sum(),data_2016['NUMBER OF PERSONS INJURED'].sum(),data_2015['NUMBER OF PERSONS INJURED'].sum(),data_2014['NUMBER OF PERSONS INJURED'].sum(),data_2013['NUMBER OF PERSONS INJURED'].sum(),data_2012['NUMBER OF PERSONS INJURED'].sum()]}\\\n",
    "    #  'NUMBER OF CYCLIST INJURED':,\\\n",
    "     # 'NUMBER OF MOTORIST INJURED':"
   ]
  },
  {
   "cell_type": "markdown",
   "metadata": {},
   "source": [
    "## 時系列ごとに事故原因数を抽出"
   ]
  },
  {
   "cell_type": "code",
   "execution_count": 25,
   "metadata": {
    "collapsed": true
   },
   "outputs": [],
   "source": [
    "data_dummy= data"
   ]
  },
  {
   "cell_type": "code",
   "execution_count": 30,
   "metadata": {
    "collapsed": true
   },
   "outputs": [],
   "source": [
    "data_dummy['month']=data_dummy.DATETIME.dt.to_period(\"M\")\n",
    "data_dummy['month']=data_dummy.DATETIME.dt.to_period(\"h\")"
   ]
  },
  {
   "cell_type": "code",
   "execution_count": 55,
   "metadata": {
    "collapsed": true
   },
   "outputs": [
    {
     "data": {
      "text/html": [
       "<div>\n",
       "<style>\n",
       "    .dataframe thead tr:only-child th {\n",
       "        text-align: right;\n",
       "    }\n",
       "\n",
       "    .dataframe thead th {\n",
       "        text-align: left;\n",
       "    }\n",
       "\n",
       "    .dataframe tbody tr th {\n",
       "        vertical-align: top;\n",
       "    }\n",
       "</style>\n",
       "<table border=\"1\" class=\"dataframe\">\n",
       "  <thead>\n",
       "    <tr style=\"text-align: right;\">\n",
       "      <th></th>\n",
       "      <th>NUMBER OF PERSONS INJURED</th>\n",
       "      <th>NUMBER OF PEDESTRIANS INJURED</th>\n",
       "    </tr>\n",
       "    <tr>\n",
       "      <th>DATETIME</th>\n",
       "      <th></th>\n",
       "      <th></th>\n",
       "    </tr>\n",
       "  </thead>\n",
       "  <tbody>\n",
       "    <tr>\n",
       "      <th>2012-07</th>\n",
       "      <td>16990</td>\n",
       "      <td>16990</td>\n",
       "    </tr>\n",
       "    <tr>\n",
       "      <th>2012-08</th>\n",
       "      <td>17140</td>\n",
       "      <td>17140</td>\n",
       "    </tr>\n",
       "    <tr>\n",
       "      <th>2012-09</th>\n",
       "      <td>16535</td>\n",
       "      <td>16535</td>\n",
       "    </tr>\n",
       "    <tr>\n",
       "      <th>2012-10</th>\n",
       "      <td>16863</td>\n",
       "      <td>16863</td>\n",
       "    </tr>\n",
       "    <tr>\n",
       "      <th>2012-11</th>\n",
       "      <td>15888</td>\n",
       "      <td>15888</td>\n",
       "    </tr>\n",
       "    <tr>\n",
       "      <th>2012-12</th>\n",
       "      <td>17119</td>\n",
       "      <td>17119</td>\n",
       "    </tr>\n",
       "    <tr>\n",
       "      <th>2013-01</th>\n",
       "      <td>15643</td>\n",
       "      <td>15643</td>\n",
       "    </tr>\n",
       "    <tr>\n",
       "      <th>2013-02</th>\n",
       "      <td>14396</td>\n",
       "      <td>14396</td>\n",
       "    </tr>\n",
       "    <tr>\n",
       "      <th>2013-03</th>\n",
       "      <td>16507</td>\n",
       "      <td>16507</td>\n",
       "    </tr>\n",
       "    <tr>\n",
       "      <th>2013-04</th>\n",
       "      <td>16438</td>\n",
       "      <td>16438</td>\n",
       "    </tr>\n",
       "    <tr>\n",
       "      <th>2013-05</th>\n",
       "      <td>18485</td>\n",
       "      <td>18485</td>\n",
       "    </tr>\n",
       "    <tr>\n",
       "      <th>2013-06</th>\n",
       "      <td>18204</td>\n",
       "      <td>18204</td>\n",
       "    </tr>\n",
       "    <tr>\n",
       "      <th>2013-07</th>\n",
       "      <td>17577</td>\n",
       "      <td>17577</td>\n",
       "    </tr>\n",
       "    <tr>\n",
       "      <th>2013-08</th>\n",
       "      <td>16754</td>\n",
       "      <td>16754</td>\n",
       "    </tr>\n",
       "    <tr>\n",
       "      <th>2013-09</th>\n",
       "      <td>16955</td>\n",
       "      <td>16955</td>\n",
       "    </tr>\n",
       "    <tr>\n",
       "      <th>2013-10</th>\n",
       "      <td>17713</td>\n",
       "      <td>17713</td>\n",
       "    </tr>\n",
       "    <tr>\n",
       "      <th>2013-11</th>\n",
       "      <td>17768</td>\n",
       "      <td>17768</td>\n",
       "    </tr>\n",
       "    <tr>\n",
       "      <th>2013-12</th>\n",
       "      <td>17280</td>\n",
       "      <td>17280</td>\n",
       "    </tr>\n",
       "    <tr>\n",
       "      <th>2014-01</th>\n",
       "      <td>16673</td>\n",
       "      <td>16673</td>\n",
       "    </tr>\n",
       "    <tr>\n",
       "      <th>2014-02</th>\n",
       "      <td>15735</td>\n",
       "      <td>15735</td>\n",
       "    </tr>\n",
       "    <tr>\n",
       "      <th>2014-03</th>\n",
       "      <td>15859</td>\n",
       "      <td>15859</td>\n",
       "    </tr>\n",
       "    <tr>\n",
       "      <th>2014-04</th>\n",
       "      <td>16371</td>\n",
       "      <td>16371</td>\n",
       "    </tr>\n",
       "    <tr>\n",
       "      <th>2014-05</th>\n",
       "      <td>18274</td>\n",
       "      <td>18274</td>\n",
       "    </tr>\n",
       "    <tr>\n",
       "      <th>2014-06</th>\n",
       "      <td>18408</td>\n",
       "      <td>18408</td>\n",
       "    </tr>\n",
       "    <tr>\n",
       "      <th>2014-07</th>\n",
       "      <td>17456</td>\n",
       "      <td>17456</td>\n",
       "    </tr>\n",
       "    <tr>\n",
       "      <th>2014-08</th>\n",
       "      <td>17093</td>\n",
       "      <td>17093</td>\n",
       "    </tr>\n",
       "    <tr>\n",
       "      <th>2014-09</th>\n",
       "      <td>17828</td>\n",
       "      <td>17828</td>\n",
       "    </tr>\n",
       "    <tr>\n",
       "      <th>2014-10</th>\n",
       "      <td>18083</td>\n",
       "      <td>18083</td>\n",
       "    </tr>\n",
       "    <tr>\n",
       "      <th>2014-11</th>\n",
       "      <td>16977</td>\n",
       "      <td>16977</td>\n",
       "    </tr>\n",
       "    <tr>\n",
       "      <th>2014-12</th>\n",
       "      <td>17244</td>\n",
       "      <td>17244</td>\n",
       "    </tr>\n",
       "    <tr>\n",
       "      <th>...</th>\n",
       "      <td>...</td>\n",
       "      <td>...</td>\n",
       "    </tr>\n",
       "    <tr>\n",
       "      <th>2015-05</th>\n",
       "      <td>19272</td>\n",
       "      <td>19272</td>\n",
       "    </tr>\n",
       "    <tr>\n",
       "      <th>2015-06</th>\n",
       "      <td>18819</td>\n",
       "      <td>18819</td>\n",
       "    </tr>\n",
       "    <tr>\n",
       "      <th>2015-07</th>\n",
       "      <td>18768</td>\n",
       "      <td>18768</td>\n",
       "    </tr>\n",
       "    <tr>\n",
       "      <th>2015-08</th>\n",
       "      <td>18973</td>\n",
       "      <td>18973</td>\n",
       "    </tr>\n",
       "    <tr>\n",
       "      <th>2015-09</th>\n",
       "      <td>18513</td>\n",
       "      <td>18513</td>\n",
       "    </tr>\n",
       "    <tr>\n",
       "      <th>2015-10</th>\n",
       "      <td>19848</td>\n",
       "      <td>19848</td>\n",
       "    </tr>\n",
       "    <tr>\n",
       "      <th>2015-11</th>\n",
       "      <td>18018</td>\n",
       "      <td>18018</td>\n",
       "    </tr>\n",
       "    <tr>\n",
       "      <th>2015-12</th>\n",
       "      <td>18867</td>\n",
       "      <td>18867</td>\n",
       "    </tr>\n",
       "    <tr>\n",
       "      <th>2016-01</th>\n",
       "      <td>18097</td>\n",
       "      <td>18097</td>\n",
       "    </tr>\n",
       "    <tr>\n",
       "      <th>2016-02</th>\n",
       "      <td>15982</td>\n",
       "      <td>15982</td>\n",
       "    </tr>\n",
       "    <tr>\n",
       "      <th>2016-03</th>\n",
       "      <td>18519</td>\n",
       "      <td>18519</td>\n",
       "    </tr>\n",
       "    <tr>\n",
       "      <th>2016-04</th>\n",
       "      <td>18362</td>\n",
       "      <td>18362</td>\n",
       "    </tr>\n",
       "    <tr>\n",
       "      <th>2016-05</th>\n",
       "      <td>20074</td>\n",
       "      <td>20074</td>\n",
       "    </tr>\n",
       "    <tr>\n",
       "      <th>2016-06</th>\n",
       "      <td>19466</td>\n",
       "      <td>19466</td>\n",
       "    </tr>\n",
       "    <tr>\n",
       "      <th>2016-07</th>\n",
       "      <td>19884</td>\n",
       "      <td>19884</td>\n",
       "    </tr>\n",
       "    <tr>\n",
       "      <th>2016-08</th>\n",
       "      <td>19691</td>\n",
       "      <td>19691</td>\n",
       "    </tr>\n",
       "    <tr>\n",
       "      <th>2016-09</th>\n",
       "      <td>19500</td>\n",
       "      <td>19500</td>\n",
       "    </tr>\n",
       "    <tr>\n",
       "      <th>2016-10</th>\n",
       "      <td>19674</td>\n",
       "      <td>19674</td>\n",
       "    </tr>\n",
       "    <tr>\n",
       "      <th>2016-11</th>\n",
       "      <td>19319</td>\n",
       "      <td>19319</td>\n",
       "    </tr>\n",
       "    <tr>\n",
       "      <th>2016-12</th>\n",
       "      <td>19230</td>\n",
       "      <td>19230</td>\n",
       "    </tr>\n",
       "    <tr>\n",
       "      <th>2017-01</th>\n",
       "      <td>17288</td>\n",
       "      <td>17288</td>\n",
       "    </tr>\n",
       "    <tr>\n",
       "      <th>2017-02</th>\n",
       "      <td>15669</td>\n",
       "      <td>15669</td>\n",
       "    </tr>\n",
       "    <tr>\n",
       "      <th>2017-03</th>\n",
       "      <td>19189</td>\n",
       "      <td>19189</td>\n",
       "    </tr>\n",
       "    <tr>\n",
       "      <th>2017-04</th>\n",
       "      <td>17718</td>\n",
       "      <td>17718</td>\n",
       "    </tr>\n",
       "    <tr>\n",
       "      <th>2017-05</th>\n",
       "      <td>20893</td>\n",
       "      <td>20893</td>\n",
       "    </tr>\n",
       "    <tr>\n",
       "      <th>2017-06</th>\n",
       "      <td>21232</td>\n",
       "      <td>21232</td>\n",
       "    </tr>\n",
       "    <tr>\n",
       "      <th>2017-07</th>\n",
       "      <td>19468</td>\n",
       "      <td>19468</td>\n",
       "    </tr>\n",
       "    <tr>\n",
       "      <th>2017-08</th>\n",
       "      <td>18917</td>\n",
       "      <td>18917</td>\n",
       "    </tr>\n",
       "    <tr>\n",
       "      <th>2017-09</th>\n",
       "      <td>19347</td>\n",
       "      <td>19347</td>\n",
       "    </tr>\n",
       "    <tr>\n",
       "      <th>2017-10</th>\n",
       "      <td>12425</td>\n",
       "      <td>12425</td>\n",
       "    </tr>\n",
       "  </tbody>\n",
       "</table>\n",
       "<p>64 rows × 2 columns</p>\n",
       "</div>"
      ],
      "text/plain": [
       "          NUMBER OF PERSONS INJURED  NUMBER OF PEDESTRIANS INJURED\n",
       "DATETIME                                                          \n",
       "2012-07                       16990                          16990\n",
       "2012-08                       17140                          17140\n",
       "2012-09                       16535                          16535\n",
       "2012-10                       16863                          16863\n",
       "2012-11                       15888                          15888\n",
       "2012-12                       17119                          17119\n",
       "2013-01                       15643                          15643\n",
       "2013-02                       14396                          14396\n",
       "2013-03                       16507                          16507\n",
       "2013-04                       16438                          16438\n",
       "2013-05                       18485                          18485\n",
       "2013-06                       18204                          18204\n",
       "2013-07                       17577                          17577\n",
       "2013-08                       16754                          16754\n",
       "2013-09                       16955                          16955\n",
       "2013-10                       17713                          17713\n",
       "2013-11                       17768                          17768\n",
       "2013-12                       17280                          17280\n",
       "2014-01                       16673                          16673\n",
       "2014-02                       15735                          15735\n",
       "2014-03                       15859                          15859\n",
       "2014-04                       16371                          16371\n",
       "2014-05                       18274                          18274\n",
       "2014-06                       18408                          18408\n",
       "2014-07                       17456                          17456\n",
       "2014-08                       17093                          17093\n",
       "2014-09                       17828                          17828\n",
       "2014-10                       18083                          18083\n",
       "2014-11                       16977                          16977\n",
       "2014-12                       17244                          17244\n",
       "...                             ...                            ...\n",
       "2015-05                       19272                          19272\n",
       "2015-06                       18819                          18819\n",
       "2015-07                       18768                          18768\n",
       "2015-08                       18973                          18973\n",
       "2015-09                       18513                          18513\n",
       "2015-10                       19848                          19848\n",
       "2015-11                       18018                          18018\n",
       "2015-12                       18867                          18867\n",
       "2016-01                       18097                          18097\n",
       "2016-02                       15982                          15982\n",
       "2016-03                       18519                          18519\n",
       "2016-04                       18362                          18362\n",
       "2016-05                       20074                          20074\n",
       "2016-06                       19466                          19466\n",
       "2016-07                       19884                          19884\n",
       "2016-08                       19691                          19691\n",
       "2016-09                       19500                          19500\n",
       "2016-10                       19674                          19674\n",
       "2016-11                       19319                          19319\n",
       "2016-12                       19230                          19230\n",
       "2017-01                       17288                          17288\n",
       "2017-02                       15669                          15669\n",
       "2017-03                       19189                          19189\n",
       "2017-04                       17718                          17718\n",
       "2017-05                       20893                          20893\n",
       "2017-06                       21232                          21232\n",
       "2017-07                       19468                          19468\n",
       "2017-08                       18917                          18917\n",
       "2017-09                       19347                          19347\n",
       "2017-10                       12425                          12425\n",
       "\n",
       "[64 rows x 2 columns]"
      ]
     },
     "execution_count": 55,
     "metadata": {},
     "output_type": "execute_result"
    }
   ],
   "source": [
    "list1=['NUMBER OF PERSONS INJURED','NUMBER OF PEDESTRIANS INJURED']\n",
    "data_dummy.groupby(per)[list1].count()"
   ]
  },
  {
   "cell_type": "code",
   "execution_count": 38,
   "metadata": {},
   "outputs": [
    {
     "data": {
      "text/plain": [
       "['NUMBER OF PERSONS INJURED', 'NUMBER OF PEDESTRIANS INJURED']"
      ]
     },
     "execution_count": 38,
     "metadata": {},
     "output_type": "execute_result"
    }
   ],
   "source": [
    "list1"
   ]
  },
  {
   "cell_type": "code",
   "execution_count": 34,
   "metadata": {
    "collapsed": true
   },
   "outputs": [
    {
     "data": {
      "text/plain": [
       "array(['DATETIME', 'BOROUGH', 'ZIP CODE', 'LATITUDE', 'LONGITUDE',\n",
       "       'LOCATION', 'ON STREET NAME', 'CROSS STREET NAME',\n",
       "       'OFF STREET NAME', 'NUMBER OF PERSONS INJURED',\n",
       "       'NUMBER OF PERSONS KILLED', 'NUMBER OF PEDESTRIANS INJURED',\n",
       "       'NUMBER OF PEDESTRIANS KILLED', 'NUMBER OF CYCLIST INJURED',\n",
       "       'NUMBER OF CYCLIST KILLED', 'NUMBER OF MOTORIST INJURED',\n",
       "       'NUMBER OF MOTORIST KILLED', 'CONTRIBUTING FACTOR VEHICLE 1',\n",
       "       'CONTRIBUTING FACTOR VEHICLE 2', 'CONTRIBUTING FACTOR VEHICLE 3',\n",
       "       'CONTRIBUTING FACTOR VEHICLE 4', 'CONTRIBUTING FACTOR VEHICLE 5',\n",
       "       'UNIQUE KEY', 'VEHICLE TYPE CODE 1', 'VEHICLE TYPE CODE 2',\n",
       "       'VEHICLE TYPE CODE 3', 'VEHICLE TYPE CODE 4', 'VEHICLE TYPE CODE 5',\n",
       "       'month'], dtype=object)"
      ]
     },
     "execution_count": 34,
     "metadata": {},
     "output_type": "execute_result"
    }
   ],
   "source": [
    "data_dummy.columns.values"
   ]
  },
  {
   "cell_type": "code",
   "execution_count": 35,
   "metadata": {},
   "outputs": [
    {
     "data": {
      "text/plain": [
       "array(['Turning Improperly', 'Failure to Keep Right',\n",
       "       'Following Too Closely', ..., 'View Obstructed/Limited',\n",
       "       'Other Vehicular', 'Glare'], dtype=object)"
      ]
     },
     "execution_count": 35,
     "metadata": {},
     "output_type": "execute_result"
    }
   ],
   "source": [
    "data_dummy['CONTRIBUTING FACTOR VEHICLE 1'].values"
   ]
  },
  {
   "cell_type": "code",
   "execution_count": 24,
   "metadata": {
    "collapsed": true
   },
   "outputs": [
    {
     "ename": "KeyError",
     "evalue": "False",
     "output_type": "error",
     "traceback": [
      "\u001b[1;31m---------------------------------------------------------------------------\u001b[0m",
      "\u001b[1;31mKeyError\u001b[0m                                  Traceback (most recent call last)",
      "\u001b[1;32mC:\\Users\\miyamoto\\Anaconda3\\lib\\site-packages\\pandas\\core\\indexes\\base.py\u001b[0m in \u001b[0;36mget_loc\u001b[1;34m(self, key, method, tolerance)\u001b[0m\n\u001b[0;32m   2392\u001b[0m             \u001b[1;32mtry\u001b[0m\u001b[1;33m:\u001b[0m\u001b[1;33m\u001b[0m\u001b[0m\n\u001b[1;32m-> 2393\u001b[1;33m                 \u001b[1;32mreturn\u001b[0m \u001b[0mself\u001b[0m\u001b[1;33m.\u001b[0m\u001b[0m_engine\u001b[0m\u001b[1;33m.\u001b[0m\u001b[0mget_loc\u001b[0m\u001b[1;33m(\u001b[0m\u001b[0mkey\u001b[0m\u001b[1;33m)\u001b[0m\u001b[1;33m\u001b[0m\u001b[0m\n\u001b[0m\u001b[0;32m   2394\u001b[0m             \u001b[1;32mexcept\u001b[0m \u001b[0mKeyError\u001b[0m\u001b[1;33m:\u001b[0m\u001b[1;33m\u001b[0m\u001b[0m\n",
      "\u001b[1;32mpandas\\_libs\\index.pyx\u001b[0m in \u001b[0;36mpandas._libs.index.IndexEngine.get_loc (pandas\\_libs\\index.c:5239)\u001b[1;34m()\u001b[0m\n",
      "\u001b[1;32mpandas\\_libs\\index.pyx\u001b[0m in \u001b[0;36mpandas._libs.index.IndexEngine.get_loc (pandas\\_libs\\index.c:5085)\u001b[1;34m()\u001b[0m\n",
      "\u001b[1;32mpandas\\_libs\\hashtable_class_helper.pxi\u001b[0m in \u001b[0;36mpandas._libs.hashtable.PyObjectHashTable.get_item (pandas\\_libs\\hashtable.c:20405)\u001b[1;34m()\u001b[0m\n",
      "\u001b[1;32mpandas\\_libs\\hashtable_class_helper.pxi\u001b[0m in \u001b[0;36mpandas._libs.hashtable.PyObjectHashTable.get_item (pandas\\_libs\\hashtable.c:20359)\u001b[1;34m()\u001b[0m\n",
      "\u001b[1;31mKeyError\u001b[0m: False",
      "\nDuring handling of the above exception, another exception occurred:\n",
      "\u001b[1;31mKeyError\u001b[0m                                  Traceback (most recent call last)",
      "\u001b[1;32m<ipython-input-24-93390a985829>\u001b[0m in \u001b[0;36m<module>\u001b[1;34m()\u001b[0m\n\u001b[0;32m      1\u001b[0m \u001b[0mper\u001b[0m \u001b[1;33m=\u001b[0m \u001b[0mdata\u001b[0m\u001b[1;33m.\u001b[0m\u001b[0mDATETIME\u001b[0m\u001b[1;33m.\u001b[0m\u001b[0mdt\u001b[0m\u001b[1;33m.\u001b[0m\u001b[0mto_period\u001b[0m\u001b[1;33m(\u001b[0m\u001b[1;34m\"M\"\u001b[0m\u001b[1;33m)\u001b[0m  \u001b[1;31m# new way to get the same\u001b[0m\u001b[1;33m\u001b[0m\u001b[0m\n\u001b[1;32m----> 2\u001b[1;33m \u001b[0mdata\u001b[0m\u001b[1;33m.\u001b[0m\u001b[0mgroupby\u001b[0m\u001b[1;33m(\u001b[0m\u001b[0mper\u001b[0m\u001b[1;33m)\u001b[0m\u001b[1;33m[\u001b[0m\u001b[0mdata\u001b[0m\u001b[1;33m[\u001b[0m\u001b[1;34m'BOROUGH'\u001b[0m\u001b[1;33m==\u001b[0m\u001b[1;34m'QUEENS'\u001b[0m\u001b[1;33m]\u001b[0m\u001b[1;33m]\u001b[0m\u001b[1;33m.\u001b[0m\u001b[0mcount\u001b[0m\u001b[1;33m(\u001b[0m\u001b[1;33m)\u001b[0m\u001b[1;33m\u001b[0m\u001b[0m\n\u001b[0m",
      "\u001b[1;32mC:\\Users\\miyamoto\\Anaconda3\\lib\\site-packages\\pandas\\core\\frame.py\u001b[0m in \u001b[0;36m__getitem__\u001b[1;34m(self, key)\u001b[0m\n\u001b[0;32m   2060\u001b[0m             \u001b[1;32mreturn\u001b[0m \u001b[0mself\u001b[0m\u001b[1;33m.\u001b[0m\u001b[0m_getitem_multilevel\u001b[0m\u001b[1;33m(\u001b[0m\u001b[0mkey\u001b[0m\u001b[1;33m)\u001b[0m\u001b[1;33m\u001b[0m\u001b[0m\n\u001b[0;32m   2061\u001b[0m         \u001b[1;32melse\u001b[0m\u001b[1;33m:\u001b[0m\u001b[1;33m\u001b[0m\u001b[0m\n\u001b[1;32m-> 2062\u001b[1;33m             \u001b[1;32mreturn\u001b[0m \u001b[0mself\u001b[0m\u001b[1;33m.\u001b[0m\u001b[0m_getitem_column\u001b[0m\u001b[1;33m(\u001b[0m\u001b[0mkey\u001b[0m\u001b[1;33m)\u001b[0m\u001b[1;33m\u001b[0m\u001b[0m\n\u001b[0m\u001b[0;32m   2063\u001b[0m \u001b[1;33m\u001b[0m\u001b[0m\n\u001b[0;32m   2064\u001b[0m     \u001b[1;32mdef\u001b[0m \u001b[0m_getitem_column\u001b[0m\u001b[1;33m(\u001b[0m\u001b[0mself\u001b[0m\u001b[1;33m,\u001b[0m \u001b[0mkey\u001b[0m\u001b[1;33m)\u001b[0m\u001b[1;33m:\u001b[0m\u001b[1;33m\u001b[0m\u001b[0m\n",
      "\u001b[1;32mC:\\Users\\miyamoto\\Anaconda3\\lib\\site-packages\\pandas\\core\\frame.py\u001b[0m in \u001b[0;36m_getitem_column\u001b[1;34m(self, key)\u001b[0m\n\u001b[0;32m   2067\u001b[0m         \u001b[1;31m# get column\u001b[0m\u001b[1;33m\u001b[0m\u001b[1;33m\u001b[0m\u001b[0m\n\u001b[0;32m   2068\u001b[0m         \u001b[1;32mif\u001b[0m \u001b[0mself\u001b[0m\u001b[1;33m.\u001b[0m\u001b[0mcolumns\u001b[0m\u001b[1;33m.\u001b[0m\u001b[0mis_unique\u001b[0m\u001b[1;33m:\u001b[0m\u001b[1;33m\u001b[0m\u001b[0m\n\u001b[1;32m-> 2069\u001b[1;33m             \u001b[1;32mreturn\u001b[0m \u001b[0mself\u001b[0m\u001b[1;33m.\u001b[0m\u001b[0m_get_item_cache\u001b[0m\u001b[1;33m(\u001b[0m\u001b[0mkey\u001b[0m\u001b[1;33m)\u001b[0m\u001b[1;33m\u001b[0m\u001b[0m\n\u001b[0m\u001b[0;32m   2070\u001b[0m \u001b[1;33m\u001b[0m\u001b[0m\n\u001b[0;32m   2071\u001b[0m         \u001b[1;31m# duplicate columns & possible reduce dimensionality\u001b[0m\u001b[1;33m\u001b[0m\u001b[1;33m\u001b[0m\u001b[0m\n",
      "\u001b[1;32mC:\\Users\\miyamoto\\Anaconda3\\lib\\site-packages\\pandas\\core\\generic.py\u001b[0m in \u001b[0;36m_get_item_cache\u001b[1;34m(self, item)\u001b[0m\n\u001b[0;32m   1532\u001b[0m         \u001b[0mres\u001b[0m \u001b[1;33m=\u001b[0m \u001b[0mcache\u001b[0m\u001b[1;33m.\u001b[0m\u001b[0mget\u001b[0m\u001b[1;33m(\u001b[0m\u001b[0mitem\u001b[0m\u001b[1;33m)\u001b[0m\u001b[1;33m\u001b[0m\u001b[0m\n\u001b[0;32m   1533\u001b[0m         \u001b[1;32mif\u001b[0m \u001b[0mres\u001b[0m \u001b[1;32mis\u001b[0m \u001b[1;32mNone\u001b[0m\u001b[1;33m:\u001b[0m\u001b[1;33m\u001b[0m\u001b[0m\n\u001b[1;32m-> 1534\u001b[1;33m             \u001b[0mvalues\u001b[0m \u001b[1;33m=\u001b[0m \u001b[0mself\u001b[0m\u001b[1;33m.\u001b[0m\u001b[0m_data\u001b[0m\u001b[1;33m.\u001b[0m\u001b[0mget\u001b[0m\u001b[1;33m(\u001b[0m\u001b[0mitem\u001b[0m\u001b[1;33m)\u001b[0m\u001b[1;33m\u001b[0m\u001b[0m\n\u001b[0m\u001b[0;32m   1535\u001b[0m             \u001b[0mres\u001b[0m \u001b[1;33m=\u001b[0m \u001b[0mself\u001b[0m\u001b[1;33m.\u001b[0m\u001b[0m_box_item_values\u001b[0m\u001b[1;33m(\u001b[0m\u001b[0mitem\u001b[0m\u001b[1;33m,\u001b[0m \u001b[0mvalues\u001b[0m\u001b[1;33m)\u001b[0m\u001b[1;33m\u001b[0m\u001b[0m\n\u001b[0;32m   1536\u001b[0m             \u001b[0mcache\u001b[0m\u001b[1;33m[\u001b[0m\u001b[0mitem\u001b[0m\u001b[1;33m]\u001b[0m \u001b[1;33m=\u001b[0m \u001b[0mres\u001b[0m\u001b[1;33m\u001b[0m\u001b[0m\n",
      "\u001b[1;32mC:\\Users\\miyamoto\\Anaconda3\\lib\\site-packages\\pandas\\core\\internals.py\u001b[0m in \u001b[0;36mget\u001b[1;34m(self, item, fastpath)\u001b[0m\n\u001b[0;32m   3588\u001b[0m \u001b[1;33m\u001b[0m\u001b[0m\n\u001b[0;32m   3589\u001b[0m             \u001b[1;32mif\u001b[0m \u001b[1;32mnot\u001b[0m \u001b[0misnull\u001b[0m\u001b[1;33m(\u001b[0m\u001b[0mitem\u001b[0m\u001b[1;33m)\u001b[0m\u001b[1;33m:\u001b[0m\u001b[1;33m\u001b[0m\u001b[0m\n\u001b[1;32m-> 3590\u001b[1;33m                 \u001b[0mloc\u001b[0m \u001b[1;33m=\u001b[0m \u001b[0mself\u001b[0m\u001b[1;33m.\u001b[0m\u001b[0mitems\u001b[0m\u001b[1;33m.\u001b[0m\u001b[0mget_loc\u001b[0m\u001b[1;33m(\u001b[0m\u001b[0mitem\u001b[0m\u001b[1;33m)\u001b[0m\u001b[1;33m\u001b[0m\u001b[0m\n\u001b[0m\u001b[0;32m   3591\u001b[0m             \u001b[1;32melse\u001b[0m\u001b[1;33m:\u001b[0m\u001b[1;33m\u001b[0m\u001b[0m\n\u001b[0;32m   3592\u001b[0m                 \u001b[0mindexer\u001b[0m \u001b[1;33m=\u001b[0m \u001b[0mnp\u001b[0m\u001b[1;33m.\u001b[0m\u001b[0marange\u001b[0m\u001b[1;33m(\u001b[0m\u001b[0mlen\u001b[0m\u001b[1;33m(\u001b[0m\u001b[0mself\u001b[0m\u001b[1;33m.\u001b[0m\u001b[0mitems\u001b[0m\u001b[1;33m)\u001b[0m\u001b[1;33m)\u001b[0m\u001b[1;33m[\u001b[0m\u001b[0misnull\u001b[0m\u001b[1;33m(\u001b[0m\u001b[0mself\u001b[0m\u001b[1;33m.\u001b[0m\u001b[0mitems\u001b[0m\u001b[1;33m)\u001b[0m\u001b[1;33m]\u001b[0m\u001b[1;33m\u001b[0m\u001b[0m\n",
      "\u001b[1;32mC:\\Users\\miyamoto\\Anaconda3\\lib\\site-packages\\pandas\\core\\indexes\\base.py\u001b[0m in \u001b[0;36mget_loc\u001b[1;34m(self, key, method, tolerance)\u001b[0m\n\u001b[0;32m   2393\u001b[0m                 \u001b[1;32mreturn\u001b[0m \u001b[0mself\u001b[0m\u001b[1;33m.\u001b[0m\u001b[0m_engine\u001b[0m\u001b[1;33m.\u001b[0m\u001b[0mget_loc\u001b[0m\u001b[1;33m(\u001b[0m\u001b[0mkey\u001b[0m\u001b[1;33m)\u001b[0m\u001b[1;33m\u001b[0m\u001b[0m\n\u001b[0;32m   2394\u001b[0m             \u001b[1;32mexcept\u001b[0m \u001b[0mKeyError\u001b[0m\u001b[1;33m:\u001b[0m\u001b[1;33m\u001b[0m\u001b[0m\n\u001b[1;32m-> 2395\u001b[1;33m                 \u001b[1;32mreturn\u001b[0m \u001b[0mself\u001b[0m\u001b[1;33m.\u001b[0m\u001b[0m_engine\u001b[0m\u001b[1;33m.\u001b[0m\u001b[0mget_loc\u001b[0m\u001b[1;33m(\u001b[0m\u001b[0mself\u001b[0m\u001b[1;33m.\u001b[0m\u001b[0m_maybe_cast_indexer\u001b[0m\u001b[1;33m(\u001b[0m\u001b[0mkey\u001b[0m\u001b[1;33m)\u001b[0m\u001b[1;33m)\u001b[0m\u001b[1;33m\u001b[0m\u001b[0m\n\u001b[0m\u001b[0;32m   2396\u001b[0m \u001b[1;33m\u001b[0m\u001b[0m\n\u001b[0;32m   2397\u001b[0m         \u001b[0mindexer\u001b[0m \u001b[1;33m=\u001b[0m \u001b[0mself\u001b[0m\u001b[1;33m.\u001b[0m\u001b[0mget_indexer\u001b[0m\u001b[1;33m(\u001b[0m\u001b[1;33m[\u001b[0m\u001b[0mkey\u001b[0m\u001b[1;33m]\u001b[0m\u001b[1;33m,\u001b[0m \u001b[0mmethod\u001b[0m\u001b[1;33m=\u001b[0m\u001b[0mmethod\u001b[0m\u001b[1;33m,\u001b[0m \u001b[0mtolerance\u001b[0m\u001b[1;33m=\u001b[0m\u001b[0mtolerance\u001b[0m\u001b[1;33m)\u001b[0m\u001b[1;33m\u001b[0m\u001b[0m\n",
      "\u001b[1;32mpandas\\_libs\\index.pyx\u001b[0m in \u001b[0;36mpandas._libs.index.IndexEngine.get_loc (pandas\\_libs\\index.c:5239)\u001b[1;34m()\u001b[0m\n",
      "\u001b[1;32mpandas\\_libs\\index.pyx\u001b[0m in \u001b[0;36mpandas._libs.index.IndexEngine.get_loc (pandas\\_libs\\index.c:5085)\u001b[1;34m()\u001b[0m\n",
      "\u001b[1;32mpandas\\_libs\\hashtable_class_helper.pxi\u001b[0m in \u001b[0;36mpandas._libs.hashtable.PyObjectHashTable.get_item (pandas\\_libs\\hashtable.c:20405)\u001b[1;34m()\u001b[0m\n",
      "\u001b[1;32mpandas\\_libs\\hashtable_class_helper.pxi\u001b[0m in \u001b[0;36mpandas._libs.hashtable.PyObjectHashTable.get_item (pandas\\_libs\\hashtable.c:20359)\u001b[1;34m()\u001b[0m\n",
      "\u001b[1;31mKeyError\u001b[0m: False"
     ]
    }
   ],
   "source": [
    "per = data.DATETIME.dt.to_period(\"M\")  # new way to get the same\n",
    "data.groupby(per)[data['BOROUGH'=='QUEENS']].count()"
   ]
  },
  {
   "cell_type": "code",
   "execution_count": null,
   "metadata": {
    "collapsed": true
   },
   "outputs": [],
   "source": [
    "data_frame1 = data_frame.groupby([,''address])"
   ]
  },
  {
   "cell_type": "code",
   "execution_count": 48,
   "metadata": {},
   "outputs": [],
   "source": [
    "list_CF1=data_dummy['CONTRIBUTING FACTOR VEHICLE 1'].values.tolist()\n",
    "list_CF1=data_dummy['CONTRIBUTING FACTOR VEHICLE 1'].value_counts().index"
   ]
  },
  {
   "cell_type": "code",
   "execution_count": 51,
   "metadata": {
    "collapsed": true
   },
   "outputs": [],
   "source": [
    "list_CF1_2=list(list_CF1)"
   ]
  },
  {
   "cell_type": "code",
   "execution_count": 52,
   "metadata": {},
   "outputs": [
    {
     "data": {
      "text/plain": [
       "['Unspecified',\n",
       " 'Driver Inattention/Distraction',\n",
       " 'Failure to Yield Right-of-Way',\n",
       " 'Fatigued/Drowsy',\n",
       " 'Backing Unsafely',\n",
       " 'Other Vehicular',\n",
       " 'Turning Improperly',\n",
       " 'Following Too Closely',\n",
       " 'Lost Consciousness',\n",
       " 'Prescription Medication',\n",
       " 'Traffic Control Disregarded',\n",
       " 'Driver Inexperience',\n",
       " 'Passing or Lane Usage Improper',\n",
       " 'Pavement Slippery',\n",
       " 'Outside Car Distraction',\n",
       " 'Unsafe Lane Changing',\n",
       " 'Alcohol Involvement',\n",
       " 'Physical Disability',\n",
       " 'Oversized Vehicle',\n",
       " 'Reaction to Other Uninvolved Vehicle',\n",
       " 'View Obstructed/Limited',\n",
       " 'Passenger Distraction',\n",
       " 'Unsafe Speed',\n",
       " 'Aggressive Driving/Road Rage',\n",
       " 'Brakes Defective',\n",
       " 'Illness',\n",
       " 'Glare',\n",
       " 'Other Electronic Device',\n",
       " 'Obstruction/Debris',\n",
       " 'Failure to Keep Right',\n",
       " 'Pedestrian/Bicyclist/Other Pedestrian Error/Confusion',\n",
       " 'Fell Asleep',\n",
       " 'Pavement Defective',\n",
       " 'Steering Failure',\n",
       " 'Tire Failure/Inadequate',\n",
       " 'Animals Action',\n",
       " 'Drugs (Illegal)',\n",
       " 'Lane Marking Improper/Inadequate',\n",
       " 'Accelerator Defective',\n",
       " 'Traffic Control Device Improper/Non-Working',\n",
       " 'Driverless/Runaway Vehicle',\n",
       " 'Cell Phone (hands-free)',\n",
       " 'Cell Phone (hand-held)',\n",
       " 'Tow Hitch Defective',\n",
       " 'Other Lighting Defects',\n",
       " 'Headlights Defective',\n",
       " 'Windshield Inadequate',\n",
       " 'Shoulders Defective/Improper']"
      ]
     },
     "execution_count": 52,
     "metadata": {},
     "output_type": "execute_result"
    }
   ],
   "source": [
    "list_CF1_2"
   ]
  },
  {
   "cell_type": "code",
   "execution_count": 53,
   "metadata": {
    "scrolled": true
   },
   "outputs": [
    {
     "ename": "KeyError",
     "evalue": "\"Columns not found: 'Failure to Yield Right-of-Way', 'Oversized Vehicle', 'Lane Marking Improper/Inadequate', 'Shoulders Defective/Improper', 'Drugs (Illegal)', 'Unspecified', 'Cell Phone (hands-free)', 'Driver Inattention/Distraction', 'Traffic Control Device Improper/Non-Working', 'Driverless/Runaway Vehicle', 'Reaction to Other Uninvolved Vehicle', 'Fatigued/Drowsy', 'Passing or Lane Usage Improper', 'Pavement Slippery', 'Animals Action', 'Brakes Defective', 'Failure to Keep Right', 'Other Vehicular', 'Driver Inexperience', 'Tire Failure/Inadequate', 'Alcohol Involvement', 'Other Lighting Defects', 'Aggressive Driving/Road Rage', 'Unsafe Speed', 'Physical Disability', 'Accelerator Defective', 'Prescription Medication', 'Steering Failure', 'Traffic Control Disregarded', 'Obstruction/Debris', 'Turning Improperly', 'Other Electronic Device', 'Illness', 'Following Too Closely', 'Pedestrian/Bicyclist/Other Pedestrian Error/Confusion', 'Headlights Defective', 'Pavement Defective', 'Lost Consciousness', 'Passenger Distraction', 'Cell Phone (hand-held)', 'Glare', 'Windshield Inadequate', 'View Obstructed/Limited', 'Unsafe Lane Changing', 'Tow Hitch Defective', 'Fell Asleep', 'Outside Car Distraction', 'Backing Unsafely'\"",
     "output_type": "error",
     "traceback": [
      "\u001b[1;31m---------------------------------------------------------------------------\u001b[0m",
      "\u001b[1;31mKeyError\u001b[0m                                  Traceback (most recent call last)",
      "\u001b[1;32m<ipython-input-53-cf86615ac6da>\u001b[0m in \u001b[0;36m<module>\u001b[1;34m()\u001b[0m\n\u001b[1;32m----> 1\u001b[1;33m \u001b[0mQUEENS\u001b[0m\u001b[1;33m=\u001b[0m\u001b[0mdata\u001b[0m\u001b[1;33m.\u001b[0m\u001b[0mgroupby\u001b[0m\u001b[1;33m(\u001b[0m\u001b[0mper\u001b[0m\u001b[1;33m)\u001b[0m\u001b[1;33m[\u001b[0m\u001b[0mlist_CF1_2\u001b[0m\u001b[1;33m]\u001b[0m\u001b[1;33m.\u001b[0m\u001b[0mcount\u001b[0m\u001b[1;33m(\u001b[0m\u001b[1;33m)\u001b[0m\u001b[1;33m\u001b[0m\u001b[0m\n\u001b[0m",
      "\u001b[1;32mC:\\Users\\miyamoto\\Anaconda3\\lib\\site-packages\\pandas\\core\\base.py\u001b[0m in \u001b[0;36m__getitem__\u001b[1;34m(self, key)\u001b[0m\n\u001b[0;32m    342\u001b[0m                 \u001b[0mbad_keys\u001b[0m \u001b[1;33m=\u001b[0m \u001b[0mlist\u001b[0m\u001b[1;33m(\u001b[0m\u001b[0mset\u001b[0m\u001b[1;33m(\u001b[0m\u001b[0mkey\u001b[0m\u001b[1;33m)\u001b[0m\u001b[1;33m.\u001b[0m\u001b[0mdifference\u001b[0m\u001b[1;33m(\u001b[0m\u001b[0mself\u001b[0m\u001b[1;33m.\u001b[0m\u001b[0mobj\u001b[0m\u001b[1;33m.\u001b[0m\u001b[0mcolumns\u001b[0m\u001b[1;33m)\u001b[0m\u001b[1;33m)\u001b[0m\u001b[1;33m\u001b[0m\u001b[0m\n\u001b[0;32m    343\u001b[0m                 raise KeyError(\"Columns not found: %s\"\n\u001b[1;32m--> 344\u001b[1;33m                                % str(bad_keys)[1:-1])\n\u001b[0m\u001b[0;32m    345\u001b[0m             \u001b[1;32mreturn\u001b[0m \u001b[0mself\u001b[0m\u001b[1;33m.\u001b[0m\u001b[0m_gotitem\u001b[0m\u001b[1;33m(\u001b[0m\u001b[0mlist\u001b[0m\u001b[1;33m(\u001b[0m\u001b[0mkey\u001b[0m\u001b[1;33m)\u001b[0m\u001b[1;33m,\u001b[0m \u001b[0mndim\u001b[0m\u001b[1;33m=\u001b[0m\u001b[1;36m2\u001b[0m\u001b[1;33m)\u001b[0m\u001b[1;33m\u001b[0m\u001b[0m\n\u001b[0;32m    346\u001b[0m \u001b[1;33m\u001b[0m\u001b[0m\n",
      "\u001b[1;31mKeyError\u001b[0m: \"Columns not found: 'Failure to Yield Right-of-Way', 'Oversized Vehicle', 'Lane Marking Improper/Inadequate', 'Shoulders Defective/Improper', 'Drugs (Illegal)', 'Unspecified', 'Cell Phone (hands-free)', 'Driver Inattention/Distraction', 'Traffic Control Device Improper/Non-Working', 'Driverless/Runaway Vehicle', 'Reaction to Other Uninvolved Vehicle', 'Fatigued/Drowsy', 'Passing or Lane Usage Improper', 'Pavement Slippery', 'Animals Action', 'Brakes Defective', 'Failure to Keep Right', 'Other Vehicular', 'Driver Inexperience', 'Tire Failure/Inadequate', 'Alcohol Involvement', 'Other Lighting Defects', 'Aggressive Driving/Road Rage', 'Unsafe Speed', 'Physical Disability', 'Accelerator Defective', 'Prescription Medication', 'Steering Failure', 'Traffic Control Disregarded', 'Obstruction/Debris', 'Turning Improperly', 'Other Electronic Device', 'Illness', 'Following Too Closely', 'Pedestrian/Bicyclist/Other Pedestrian Error/Confusion', 'Headlights Defective', 'Pavement Defective', 'Lost Consciousness', 'Passenger Distraction', 'Cell Phone (hand-held)', 'Glare', 'Windshield Inadequate', 'View Obstructed/Limited', 'Unsafe Lane Changing', 'Tow Hitch Defective', 'Fell Asleep', 'Outside Car Distraction', 'Backing Unsafely'\""
     ]
    }
   ],
   "source": [
    "QUEENS=data.groupby(per)[list_CF1_2].count()"
   ]
  },
  {
   "cell_type": "markdown",
   "metadata": {},
   "source": [
    "## 時間帯ごとに事故数を抽出"
   ]
  },
  {
   "cell_type": "code",
   "execution_count": 20,
   "metadata": {
    "collapsed": true
   },
   "outputs": [],
   "source": [
    "per_2012 = data_2012.DATETIME.dt.to_period(\"M\")# new way to get the same\n",
    "per_2013 = data_2013.DATETIME.dt.to_period(\"M\")\n",
    "per_2014 = data_2014.DATETIME.dt.to_period(\"M\")\n",
    "per_2015 = data_2015.DATETIME.dt.to_period(\"M\")\n",
    "per_2016 = data_2016.DATETIME.dt.to_period(\"M\")\n",
    "per_2017 = data_2017.DATETIME.dt.to_period(\"M\")"
   ]
  },
  {
   "cell_type": "code",
   "execution_count": 43,
   "metadata": {
    "collapsed": true
   },
   "outputs": [],
   "source": [
    "month_2012=data.groupby(per_2012)['BOROUGH'].count()\n",
    "month_2013=data.groupby(per_2013)['BOROUGH'].count()\n",
    "month_2014=data.groupby(per_2014)['BOROUGH'].count()\n",
    "month_2015=data.groupby(per_2015)['BOROUGH'].count()\n",
    "month_2016=data.groupby(per_2016)['BOROUGH'].count()\n",
    "month_2017=data.groupby(per_2017)['BOROUGH'].count()"
   ]
  },
  {
   "cell_type": "code",
   "execution_count": 61,
   "metadata": {},
   "outputs": [
    {
     "data": {
      "text/plain": [
       "<matplotlib.legend.Legend at 0x3dea9978>"
      ]
     },
     "execution_count": 61,
     "metadata": {},
     "output_type": "execute_result"
    },
    {
     "data": {
      "image/png": "[encoded data removed]",
      "text/plain": [
       "<matplotlib.figure.Figure at 0x3cb71eb8>"
      ]
     },
     "metadata": {},
     "output_type": "display_data"
    }
   ],
   "source": [
    "x=np.arange(1,13)\n",
    "plt.plot(x,month_2013,label='2013')\n",
    "plt.plot(x,month_2014,label='2014')\n",
    "plt.plot(x,month_2015,label='2015')\n",
    "plt.plot(x,month_2016,label='2016')\n",
    "plt.legend()"
   ]
  },
  {
   "cell_type": "markdown",
   "metadata": {},
   "source": [
    "2月は少なく５月は多い、 \n",
    "１０月も増えがち。11月で下がりがち"
   ]
  },
  {
   "cell_type": "code",
   "execution_count": 21,
   "metadata": {
    "collapsed": true
   },
   "outputs": [
    {
     "ename": "TypeError",
     "evalue": "Could not compare ['2012'] with block values",
     "output_type": "error",
     "traceback": [
      "\u001b[1;31m---------------------------------------------------------------------------\u001b[0m",
      "\u001b[1;31mTypeError\u001b[0m                                 Traceback (most recent call last)",
      "\u001b[1;32m<ipython-input-21-b0e6b799ff2a>\u001b[0m in \u001b[0;36m<module>\u001b[1;34m()\u001b[0m\n\u001b[0;32m      1\u001b[0m \u001b[1;32mfor\u001b[0m \u001b[0mi\u001b[0m \u001b[1;32min\u001b[0m \u001b[0mrange\u001b[0m\u001b[1;33m(\u001b[0m\u001b[1;36m2012\u001b[0m\u001b[1;33m,\u001b[0m\u001b[1;36m2018\u001b[0m\u001b[1;33m)\u001b[0m\u001b[1;33m:\u001b[0m\u001b[1;33m\u001b[0m\u001b[0m\n\u001b[1;32m----> 2\u001b[1;33m     \u001b[0mfilename\u001b[0m\u001b[1;33m=\u001b[0m\u001b[0mdata\u001b[0m\u001b[1;33m+\u001b[0m\u001b[0mstr\u001b[0m\u001b[1;33m(\u001b[0m\u001b[0mi\u001b[0m\u001b[1;33m)\u001b[0m\u001b[1;33m\u001b[0m\u001b[0m\n\u001b[0m\u001b[0;32m      3\u001b[0m     \u001b[0mprint\u001b[0m\u001b[1;33m(\u001b[0m\u001b[0mfilename\u001b[0m\u001b[1;33m)\u001b[0m\u001b[1;33m\u001b[0m\u001b[0m\n\u001b[0;32m      4\u001b[0m \u001b[1;31m#    per[i]=filename.DATE.dt.to_period(\"M\")\u001b[0m\u001b[1;33m\u001b[0m\u001b[1;33m\u001b[0m\u001b[0m\n",
      "\u001b[1;32mC:\\ProgramData\\Anaconda3\\lib\\site-packages\\pandas\\core\\ops.py\u001b[0m in \u001b[0;36mf\u001b[1;34m(self, other, axis, level, fill_value)\u001b[0m\n\u001b[0;32m   1239\u001b[0m                 \u001b[0mself\u001b[0m \u001b[1;33m=\u001b[0m \u001b[0mself\u001b[0m\u001b[1;33m.\u001b[0m\u001b[0mfillna\u001b[0m\u001b[1;33m(\u001b[0m\u001b[0mfill_value\u001b[0m\u001b[1;33m)\u001b[0m\u001b[1;33m\u001b[0m\u001b[0m\n\u001b[0;32m   1240\u001b[0m \u001b[1;33m\u001b[0m\u001b[0m\n\u001b[1;32m-> 1241\u001b[1;33m             \u001b[1;32mreturn\u001b[0m \u001b[0mself\u001b[0m\u001b[1;33m.\u001b[0m\u001b[0m_combine_const\u001b[0m\u001b[1;33m(\u001b[0m\u001b[0mother\u001b[0m\u001b[1;33m,\u001b[0m \u001b[0mna_op\u001b[0m\u001b[1;33m)\u001b[0m\u001b[1;33m\u001b[0m\u001b[0m\n\u001b[0m\u001b[0;32m   1242\u001b[0m \u001b[1;33m\u001b[0m\u001b[0m\n\u001b[0;32m   1243\u001b[0m     \u001b[0mf\u001b[0m\u001b[1;33m.\u001b[0m\u001b[0m__name__\u001b[0m \u001b[1;33m=\u001b[0m \u001b[0mname\u001b[0m\u001b[1;33m\u001b[0m\u001b[0m\n",
      "\u001b[1;32mC:\\ProgramData\\Anaconda3\\lib\\site-packages\\pandas\\core\\frame.py\u001b[0m in \u001b[0;36m_combine_const\u001b[1;34m(self, other, func, raise_on_error)\u001b[0m\n\u001b[0;32m   3639\u001b[0m     \u001b[1;32mdef\u001b[0m \u001b[0m_combine_const\u001b[0m\u001b[1;33m(\u001b[0m\u001b[0mself\u001b[0m\u001b[1;33m,\u001b[0m \u001b[0mother\u001b[0m\u001b[1;33m,\u001b[0m \u001b[0mfunc\u001b[0m\u001b[1;33m,\u001b[0m \u001b[0mraise_on_error\u001b[0m\u001b[1;33m=\u001b[0m\u001b[1;32mTrue\u001b[0m\u001b[1;33m)\u001b[0m\u001b[1;33m:\u001b[0m\u001b[1;33m\u001b[0m\u001b[0m\n\u001b[0;32m   3640\u001b[0m         new_data = self._data.eval(func=func, other=other,\n\u001b[1;32m-> 3641\u001b[1;33m                                    raise_on_error=raise_on_error)\n\u001b[0m\u001b[0;32m   3642\u001b[0m         \u001b[1;32mreturn\u001b[0m \u001b[0mself\u001b[0m\u001b[1;33m.\u001b[0m\u001b[0m_constructor\u001b[0m\u001b[1;33m(\u001b[0m\u001b[0mnew_data\u001b[0m\u001b[1;33m)\u001b[0m\u001b[1;33m\u001b[0m\u001b[0m\n\u001b[0;32m   3643\u001b[0m \u001b[1;33m\u001b[0m\u001b[0m\n",
      "\u001b[1;32mC:\\ProgramData\\Anaconda3\\lib\\site-packages\\pandas\\core\\internals.py\u001b[0m in \u001b[0;36meval\u001b[1;34m(self, **kwargs)\u001b[0m\n\u001b[0;32m   3195\u001b[0m \u001b[1;33m\u001b[0m\u001b[0m\n\u001b[0;32m   3196\u001b[0m     \u001b[1;32mdef\u001b[0m \u001b[0meval\u001b[0m\u001b[1;33m(\u001b[0m\u001b[0mself\u001b[0m\u001b[1;33m,\u001b[0m \u001b[1;33m**\u001b[0m\u001b[0mkwargs\u001b[0m\u001b[1;33m)\u001b[0m\u001b[1;33m:\u001b[0m\u001b[1;33m\u001b[0m\u001b[0m\n\u001b[1;32m-> 3197\u001b[1;33m         \u001b[1;32mreturn\u001b[0m \u001b[0mself\u001b[0m\u001b[1;33m.\u001b[0m\u001b[0mapply\u001b[0m\u001b[1;33m(\u001b[0m\u001b[1;34m'eval'\u001b[0m\u001b[1;33m,\u001b[0m \u001b[1;33m**\u001b[0m\u001b[0mkwargs\u001b[0m\u001b[1;33m)\u001b[0m\u001b[1;33m\u001b[0m\u001b[0m\n\u001b[0m\u001b[0;32m   3198\u001b[0m \u001b[1;33m\u001b[0m\u001b[0m\n\u001b[0;32m   3199\u001b[0m     \u001b[1;32mdef\u001b[0m \u001b[0mquantile\u001b[0m\u001b[1;33m(\u001b[0m\u001b[0mself\u001b[0m\u001b[1;33m,\u001b[0m \u001b[1;33m**\u001b[0m\u001b[0mkwargs\u001b[0m\u001b[1;33m)\u001b[0m\u001b[1;33m:\u001b[0m\u001b[1;33m\u001b[0m\u001b[0m\n",
      "\u001b[1;32mC:\\ProgramData\\Anaconda3\\lib\\site-packages\\pandas\\core\\internals.py\u001b[0m in \u001b[0;36mapply\u001b[1;34m(self, f, axes, filter, do_integrity_check, consolidate, **kwargs)\u001b[0m\n\u001b[0;32m   3089\u001b[0m \u001b[1;33m\u001b[0m\u001b[0m\n\u001b[0;32m   3090\u001b[0m             \u001b[0mkwargs\u001b[0m\u001b[1;33m[\u001b[0m\u001b[1;34m'mgr'\u001b[0m\u001b[1;33m]\u001b[0m \u001b[1;33m=\u001b[0m \u001b[0mself\u001b[0m\u001b[1;33m\u001b[0m\u001b[0m\n\u001b[1;32m-> 3091\u001b[1;33m             \u001b[0mapplied\u001b[0m \u001b[1;33m=\u001b[0m \u001b[0mgetattr\u001b[0m\u001b[1;33m(\u001b[0m\u001b[0mb\u001b[0m\u001b[1;33m,\u001b[0m \u001b[0mf\u001b[0m\u001b[1;33m)\u001b[0m\u001b[1;33m(\u001b[0m\u001b[1;33m**\u001b[0m\u001b[0mkwargs\u001b[0m\u001b[1;33m)\u001b[0m\u001b[1;33m\u001b[0m\u001b[0m\n\u001b[0m\u001b[0;32m   3092\u001b[0m             \u001b[0mresult_blocks\u001b[0m \u001b[1;33m=\u001b[0m \u001b[0m_extend_blocks\u001b[0m\u001b[1;33m(\u001b[0m\u001b[0mapplied\u001b[0m\u001b[1;33m,\u001b[0m \u001b[0mresult_blocks\u001b[0m\u001b[1;33m)\u001b[0m\u001b[1;33m\u001b[0m\u001b[0m\n\u001b[0;32m   3093\u001b[0m \u001b[1;33m\u001b[0m\u001b[0m\n",
      "\u001b[1;32mC:\\ProgramData\\Anaconda3\\lib\\site-packages\\pandas\\core\\internals.py\u001b[0m in \u001b[0;36meval\u001b[1;34m(self, func, other, raise_on_error, try_cast, mgr)\u001b[0m\n\u001b[0;32m   1203\u001b[0m \u001b[1;33m\u001b[0m\u001b[0m\n\u001b[0;32m   1204\u001b[0m                 raise TypeError('Could not compare [%s] with block values' %\n\u001b[1;32m-> 1205\u001b[1;33m                                 repr(other))\n\u001b[0m\u001b[0;32m   1206\u001b[0m \u001b[1;33m\u001b[0m\u001b[0m\n\u001b[0;32m   1207\u001b[0m         \u001b[1;31m# transpose if needed\u001b[0m\u001b[1;33m\u001b[0m\u001b[1;33m\u001b[0m\u001b[0m\n",
      "\u001b[1;31mTypeError\u001b[0m: Could not compare ['2012'] with block values"
     ]
    }
   ],
   "source": [
    "for i in range(2012,2018):\n",
    "    filename=data+str(i)\n",
    "    print(filename)\n",
    "#    per[i]=filename.DATE.dt.to_period(\"M\")"
   ]
  },
  {
   "cell_type": "code",
   "execution_count": 134,
   "metadata": {
    "collapsed": true
   },
   "outputs": [],
   "source": [
    "data_timespan=data.groupby(per)['BOROUGH'].count()"
   ]
  },
  {
   "cell_type": "code",
   "execution_count": 135,
   "metadata": {
    "collapsed": true
   },
   "outputs": [
    {
     "data": {
      "text/plain": [
       "<matplotlib.axes._subplots.AxesSubplot at 0x75336518>"
      ]
     },
     "execution_count": 135,
     "metadata": {},
     "output_type": "execute_result"
    },
    {
     "data": {
      "image/png": "[encoded data removed]",
      "text/plain": [
       "<matplotlib.figure.Figure at 0x755424e0>"
      ]
     },
     "metadata": {},
     "output_type": "display_data"
    }
   ],
   "source": [
    "data_timespan.plot()"
   ]
  },
  {
   "cell_type": "markdown",
   "metadata": {},
   "source": [
    "## 複数のデータフレームの処理"
   ]
  },
  {
   "cell_type": "code",
   "execution_count": null,
   "metadata": {
    "collapsed": true
   },
   "outputs": [],
   "source": [
    "import pandas as pd\n",
    "#import numpy as np\n",
    "#import pickle\n",
    "#import zipfile\n",
    "import os\n",
    "import sys\n",
    "\n",
    "\n",
    "#データ読み込み関数 1ファイルを読み込み\n",
    "def read_file( i, path, rfile ):\n",
    "\n",
    "   filepath = r\"{0}\\{1}\".format(path,rfile)\n",
    "   tmp_data = pd.read_csv( filepath,\n",
    "               encoding=\"sjis\",\n",
    "                           nrows=100, #今だけ１００行に制限\n",
    "                           header=None                    \n",
    "                       )\n",
    "\n",
    "    #カラム名を設定\n",
    "    tmp_data.columns =['ID', 'name','score']\n",
    "    # ファイル内に科目名を示す情報がないため列（index）を追加\n",
    "    tmp_data['nm_filenumber'] = '{0:02d}'.format(i) \n",
    "    return tmp_data\n",
    "\n",
    "##ディレクトリ以下の全ファイルを繰り返し処理\n",
    "target_dir = r\"\\\\Server\\Readonly\\ClientA\\17年2月\"\n",
    "\n",
    "for i, filename in enumerate( os.listdir(target_dir)):\n",
    "    print(i, filename )\n",
    "\n",
    "# ここで展開したファイル名を次々にデータ化したい､このループ内を想定。\n",
    "# 一旦ループの外で、手入力すると下記の様になる｡\n",
    "\n",
    "df_01 = read_file( 1, target_dir, r\"ClientA_KOKUGO_201702.csv\" )\n",
    "df_02 = read_file( 2, target_dir, r\"ClientA_RIKA_201702.csv\" )\n",
    "df_03 = read_GC( 3, target_dir, r\"ClientA_SANSU_201702.csv\" )\n",
    "#... 続く\n",
    "\n",
    "# 後続処理\n",
    "# 上記データを全て横結合\n",
    "# 上記データを全て縦結合"
   ]
  },
  {
   "cell_type": "code",
   "execution_count": 36,
   "metadata": {},
   "outputs": [
    {
     "ename": "NameError",
     "evalue": "name 'data_i' is not defined",
     "output_type": "error",
     "traceback": [
      "\u001b[1;31m---------------------------------------------------------------------------\u001b[0m",
      "\u001b[1;31mNameError\u001b[0m                                 Traceback (most recent call last)",
      "\u001b[1;32m<ipython-input-36-29e57bbad0c4>\u001b[0m in \u001b[0;36m<module>\u001b[1;34m()\u001b[0m\n\u001b[0;32m      1\u001b[0m \u001b[0mdf_list\u001b[0m\u001b[1;33m=\u001b[0m\u001b[1;33m[\u001b[0m\u001b[1;33m]\u001b[0m\u001b[1;33m\u001b[0m\u001b[0m\n\u001b[0;32m      2\u001b[0m \u001b[1;32mfor\u001b[0m \u001b[0mi\u001b[0m \u001b[1;32min\u001b[0m \u001b[0mrange\u001b[0m\u001b[1;33m(\u001b[0m\u001b[1;36m2012\u001b[0m\u001b[1;33m,\u001b[0m\u001b[1;36m2018\u001b[0m\u001b[1;33m)\u001b[0m\u001b[1;33m:\u001b[0m\u001b[1;33m\u001b[0m\u001b[0m\n\u001b[1;32m----> 3\u001b[1;33m     \u001b[0mdf\u001b[0m\u001b[1;33m.\u001b[0m\u001b[0mappend\u001b[0m\u001b[1;33m(\u001b[0m\u001b[0mdata_i\u001b[0m\u001b[1;33m)\u001b[0m\u001b[1;33m\u001b[0m\u001b[0m\n\u001b[0m\u001b[0;32m      4\u001b[0m \u001b[0mdf_list\u001b[0m\u001b[1;33m\u001b[0m\u001b[0m\n",
      "\u001b[1;31mNameError\u001b[0m: name 'data_i' is not defined"
     ]
    }
   ],
   "source": [
    "df_list=[]\n",
    "for i in range(2012,2018):\n",
    "    df.append(data_i)\n",
    "df_list"
   ]
  },
  {
   "cell_type": "code",
   "execution_count": null,
   "metadata": {
    "collapsed": true
   },
   "outputs": [],
   "source": []
  },
  {
   "cell_type": "code",
   "execution_count": 35,
   "metadata": {},
   "outputs": [
    {
     "ename": "ValueError",
     "evalue": "DataFrame constructor not properly called!",
     "output_type": "error",
     "traceback": [
      "\u001b[1;31m---------------------------------------------------------------------------\u001b[0m",
      "\u001b[1;31mValueError\u001b[0m                                Traceback (most recent call last)",
      "\u001b[1;32m<ipython-input-35-1e3c7136b72e>\u001b[0m in \u001b[0;36m<module>\u001b[1;34m()\u001b[0m\n\u001b[1;32m----> 1\u001b[1;33m \u001b[0mDataFrame\u001b[0m\u001b[1;33m(\u001b[0m\u001b[0mstr\u001b[0m\u001b[1;33m(\u001b[0m\u001b[0mdata_2012\u001b[0m\u001b[1;33m)\u001b[0m\u001b[1;33m)\u001b[0m\u001b[1;33m.\u001b[0m\u001b[0mcolumns\u001b[0m\u001b[1;33m\u001b[0m\u001b[0m\n\u001b[0m",
      "\u001b[1;32mC:\\ProgramData\\Anaconda3\\lib\\site-packages\\pandas\\core\\frame.py\u001b[0m in \u001b[0;36m__init__\u001b[1;34m(self, data, index, columns, dtype, copy)\u001b[0m\n\u001b[0;32m    352\u001b[0m                                          copy=False)\n\u001b[0;32m    353\u001b[0m             \u001b[1;32melse\u001b[0m\u001b[1;33m:\u001b[0m\u001b[1;33m\u001b[0m\u001b[0m\n\u001b[1;32m--> 354\u001b[1;33m                 \u001b[1;32mraise\u001b[0m \u001b[0mValueError\u001b[0m\u001b[1;33m(\u001b[0m\u001b[1;34m'DataFrame constructor not properly called!'\u001b[0m\u001b[1;33m)\u001b[0m\u001b[1;33m\u001b[0m\u001b[0m\n\u001b[0m\u001b[0;32m    355\u001b[0m \u001b[1;33m\u001b[0m\u001b[0m\n\u001b[0;32m    356\u001b[0m         \u001b[0mNDFrame\u001b[0m\u001b[1;33m.\u001b[0m\u001b[0m__init__\u001b[0m\u001b[1;33m(\u001b[0m\u001b[0mself\u001b[0m\u001b[1;33m,\u001b[0m \u001b[0mmgr\u001b[0m\u001b[1;33m,\u001b[0m \u001b[0mfastpath\u001b[0m\u001b[1;33m=\u001b[0m\u001b[1;32mTrue\u001b[0m\u001b[1;33m)\u001b[0m\u001b[1;33m\u001b[0m\u001b[0m\n",
      "\u001b[1;31mValueError\u001b[0m: DataFrame constructor not properly called!"
     ]
    }
   ],
   "source": [
    "DataFrame(str(data_2012)).columns"
   ]
  },
  {
   "cell_type": "code",
   "execution_count": 65,
   "metadata": {
    "scrolled": true
   },
   "outputs": [
    {
     "name": "stderr",
     "output_type": "stream",
     "text": [
      "C:\\ProgramData\\Anaconda3\\lib\\site-packages\\IPython\\core\\interactiveshell.py:2717: DtypeWarning: Columns (3) have mixed types. Specify dtype option on import or set low_memory=False.\n",
      "  interactivity=interactivity, compiler=compiler, result=result)\n",
      "C:\\ProgramData\\Anaconda3\\lib\\site-packages\\IPython\\core\\interactiveshell.py:2717: DtypeWarning: Columns (2) have mixed types. Specify dtype option on import or set low_memory=False.\n",
      "  interactivity=interactivity, compiler=compiler, result=result)\n"
     ]
    }
   ],
   "source": [
    "import pandas as pd\n",
    "import glob\n",
    "import os\n",
    "\n",
    "#DATA_DIR='./data'\n",
    "\n",
    "files = glob.glob(os.path.join('*.csv'))\n",
    "df_list=[]\n",
    "for file in files:\n",
    "    tmp_df = pd.read_csv(file,parse_dates=[0],encoding=\"sjis\") #サブディレクトリも読み込むときはencoding=\"sjis\"\n",
    "    tmp_df['filename'] = os.path.basename(file)\n",
    "#    df_list.append(tmp_df)\n",
    "#df = pd.concat(df_list, ignore_index=True)\n"
   ]
  },
  {
   "cell_type": "code",
   "execution_count": null,
   "metadata": {
    "collapsed": true
   },
   "outputs": [],
   "source": [
    "data_"
   ]
  },
  {
   "cell_type": "code",
   "execution_count": 23,
   "metadata": {
    "collapsed": true
   },
   "outputs": [],
   "source": [
    "import pandas as pd\n",
    "import glob\n",
    "import os\n",
    "files = glob.glob(os.path.join('*.csv'))"
   ]
  },
  {
   "cell_type": "code",
   "execution_count": 136,
   "metadata": {
    "collapsed": true
   },
   "outputs": [],
   "source": [
    "per2 = data.TIME.dt.to_period(\"h\")  # new way to get the same"
   ]
  },
  {
   "cell_type": "code",
   "execution_count": 137,
   "metadata": {
    "collapsed": true
   },
   "outputs": [],
   "source": [
    "month_timespan=data.groupby(per2)['BOROUGH'].count()"
   ]
  },
  {
   "cell_type": "code",
   "execution_count": 138,
   "metadata": {},
   "outputs": [
    {
     "data": {
      "text/plain": [
       "<matplotlib.axes._subplots.AxesSubplot at 0x742b6588>"
      ]
     },
     "execution_count": 138,
     "metadata": {},
     "output_type": "execute_result"
    },
    {
     "data": {
      "image/png": "[encoded data removed]",
      "text/plain": [
       "<matplotlib.figure.Figure at 0x7418e978>"
      ]
     },
     "metadata": {},
     "output_type": "display_data"
    }
   ],
   "source": [
    "month_timespan.plot()"
   ]
  },
  {
   "cell_type": "markdown",
   "metadata": {},
   "source": [
    "## 月ごとに事故数を抽出"
   ]
  },
  {
   "cell_type": "code",
   "execution_count": 141,
   "metadata": {},
   "outputs": [
    {
     "name": "stdout",
     "output_type": "stream",
     "text": [
      "<class 'pandas.core.frame.DataFrame'>\n",
      "RangeIndex: 1137849 entries, 0 to 1137848\n",
      "Data columns (total 29 columns):\n",
      "DATE                             1137849 non-null datetime64[ns]\n",
      "TIME                             1137849 non-null datetime64[ns]\n",
      "BOROUGH                          820326 non-null object\n",
      "ZIP CODE                         820247 non-null object\n",
      "LATITUDE                         927296 non-null float64\n",
      "LONGITUDE                        927296 non-null float64\n",
      "LOCATION                         927296 non-null object\n",
      "ON STREET NAME                   922954 non-null object\n",
      "CROSS STREET NAME                875298 non-null object\n",
      "OFF STREET NAME                  172082 non-null object\n",
      "NUMBER OF PERSONS INJURED        1137849 non-null int64\n",
      "NUMBER OF PERSONS KILLED         1137849 non-null int64\n",
      "NUMBER OF PEDESTRIANS INJURED    1137849 non-null int64\n",
      "NUMBER OF PEDESTRIANS KILLED     1137849 non-null int64\n",
      "NUMBER OF CYCLIST INJURED        1137849 non-null int64\n",
      "NUMBER OF CYCLIST KILLED         1137849 non-null int64\n",
      "NUMBER OF MOTORIST INJURED       1137849 non-null int64\n",
      "NUMBER OF MOTORIST KILLED        1137849 non-null int64\n",
      "CONTRIBUTING FACTOR VEHICLE 1    1132921 non-null object\n",
      "CONTRIBUTING FACTOR VEHICLE 2    987555 non-null object\n",
      "CONTRIBUTING FACTOR VEHICLE 3    74167 non-null object\n",
      "CONTRIBUTING FACTOR VEHICLE 4    15979 non-null object\n",
      "CONTRIBUTING FACTOR VEHICLE 5    3924 non-null object\n",
      "UNIQUE KEY                       1137849 non-null int64\n",
      "VEHICLE TYPE CODE 1              1129361 non-null object\n",
      "VEHICLE TYPE CODE 2              956224 non-null object\n",
      "VEHICLE TYPE CODE 3              71831 non-null object\n",
      "VEHICLE TYPE CODE 4              15376 non-null object\n",
      "VEHICLE TYPE CODE 5              3800 non-null object\n",
      "dtypes: datetime64[ns](2), float64(2), int64(9), object(16)\n",
      "memory usage: 251.8+ MB\n"
     ]
    }
   ],
   "source": [
    "data.info()"
   ]
  }
 ],
 "metadata": {
  "kernelspec": {
   "display_name": "Python 3",
   "language": "python",
   "name": "python3"
  },
  "language_info": {
   "codemirror_mode": {
    "name": "ipython",
    "version": 3
   },
   "file_extension": ".py",
   "mimetype": "text/x-python",
   "name": "python",
   "nbconvert_exporter": "python",
   "pygments_lexer": "ipython3",
   "version": "3.6.1"
  }
 },
 "nbformat": 4,
 "nbformat_minor": 2
}
